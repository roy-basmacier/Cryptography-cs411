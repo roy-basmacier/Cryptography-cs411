{
  "nbformat": 4,
  "nbformat_minor": 0,
  "metadata": {
    "colab": {
      "name": "Cs411_hw2.ipynb",
      "provenance": [],
      "collapsed_sections": []
    },
    "kernelspec": {
      "name": "python3",
      "display_name": "Python 3"
    }
  },
  "cells": [
    {
      "cell_type": "markdown",
      "metadata": {
        "id": "bj4ARTmyTN8Z",
        "colab_type": "text"
      },
      "source": [
        "You must have bonus_helper.py , lfsr.py and myntl.py in the same directory for this script to work\n",
        "also install pyprimes"
      ]
    },
    {
      "cell_type": "code",
      "metadata": {
        "id": "vUbzmkesPrV3",
        "colab_type": "code",
        "outputId": "aaf05481-2bf4-40bd-f086-b5e50d7e246e",
        "colab": {
          "base_uri": "https://localhost:8080/",
          "height": 53
        }
      },
      "source": [
        "!pip install pyprimes"
      ],
      "execution_count": 11,
      "outputs": [
        {
          "output_type": "stream",
          "text": [
            "Requirement already satisfied: pyprimes in /usr/local/lib/python3.6/dist-packages (0.1)\n"
          ],
          "name": "stdout"
        }
      ]
    },
    {
      "cell_type": "code",
      "metadata": {
        "id": "OSlY5tEVPX-6",
        "colab_type": "code",
        "colab": {}
      },
      "source": [
        "from myntl import *\n",
        "from lfsr import *\n",
        "from bonus_helper import *"
      ],
      "execution_count": 0,
      "outputs": []
    },
    {
      "cell_type": "markdown",
      "metadata": {
        "id": "1D2Y6hLMxPHm",
        "colab_type": "text"
      },
      "source": [
        "# Question 1\n",
        "###Consider the group Z*_61.\n",
        "a)  How many generators are there in Z\\*_61? Find at least two generators in Z\\*_61. \n",
        "\n",
        "b)  Find a subgroup of Z\\*_61, whose order is 5. Find also its generator.\n",
        "\n"
      ]
    },
    {
      "cell_type": "markdown",
      "metadata": {
        "id": "rP6qHaVnOK53",
        "colab_type": "text"
      },
      "source": [
        "**a) There are 16 generators in Z*_61. 2 and 6 are some of the generators.**\n",
        "\n",
        "**b)  \\<9> is a subgroup of Z*_61 with order 5 its generators are  [9, 20, 58, 34, 1]**"
      ]
    },
    {
      "cell_type": "code",
      "metadata": {
        "id": "rn4J2KwpQhTm",
        "colab_type": "code",
        "outputId": "ff8222a4-ac05-4ad9-b49a-9de295e2a93b",
        "colab": {
          "base_uri": "https://localhost:8080/",
          "height": 100
        }
      },
      "source": [
        "elements = list(range(1,61))\n",
        "count = 0\n",
        "orderOfSubgroup = 5\n",
        "for i in elements:\n",
        "  temp = []\n",
        "  x = i % 61\n",
        "  j = 1\n",
        "  while x not in temp:\n",
        "    temp.append(x)\n",
        "    j += 1\n",
        "    x = (i**j) % 61\n",
        "  if len(temp) == orderOfSubgroup: \n",
        "    count += 1\n",
        "    print(i, temp)\n",
        "    \n",
        "print('There are', count, 'sub groups of order', orderOfSubgroup)"
      ],
      "execution_count": 14,
      "outputs": [
        {
          "output_type": "stream",
          "text": [
            "9 [9, 20, 58, 34, 1]\n",
            "20 [20, 34, 9, 58, 1]\n",
            "34 [34, 58, 20, 9, 1]\n",
            "58 [58, 9, 34, 20, 1]\n",
            "There are 4 sub groups of order 5\n"
          ],
          "name": "stdout"
        }
      ]
    },
    {
      "cell_type": "markdown",
      "metadata": {
        "id": "_KAuQL1PbKk7",
        "colab_type": "text"
      },
      "source": [
        "# Question 2\n",
        "p =  5527064775949971276700546474393760569152256071781455112554572252477078482817219303694924773296938028736900310336193124455858291501008953781025760084204617\n",
        "\n",
        "q =  10263715010889663011237581846368625560721472564413404816414563312121711111200512062338133630430698017953660509772503749526855821347556114413740814256720609\n",
        "\n",
        "n=p×q\n",
        "\n",
        "c = 6016447327565519594114000681088119027251827426178525282923410539353402986195693266732998286093991346837854685945523958512316911535914428131590560765331415513592957120361162167163223354643895818554169459592360948153053758601978139504376688619229954806515113869761029037549195053798048200751500102605855423415\n",
        "\n",
        "e = 67\n",
        "\n",
        "Compute m = c^d  mod n  (where d = e^-1 mod phi(n)).\n"
      ]
    },
    {
      "cell_type": "code",
      "metadata": {
        "id": "wslU8eebbq1h",
        "colab_type": "code",
        "colab": {}
      },
      "source": [
        "p = 5527064775949971276700546474393760569152256071781455112554572252477078482817219303694924773296938028736900310336193124455858291501008953781025760084204617\n",
        "\n",
        "q = 10263715010889663011237581846368625560721472564413404816414563312121711111200512062338133630430698017953660509772503749526855821347556114413740814256720609\n",
        "\n",
        "n=p*q\n",
        "\n",
        "c = 6016447327565519594114000681088119027251827426178525282923410539353402986195693266732998286093991346837854685945523958512316911535914428131590560765331415513592957120361162167163223354643895818554169459592360948153053758601978139504376688619229954806515113869761029037549195053798048200751500102605855423415\n",
        "\n",
        "e = 67"
      ],
      "execution_count": 0,
      "outputs": []
    },
    {
      "cell_type": "code",
      "metadata": {
        "id": "zvyVhwjseVs4",
        "colab_type": "code",
        "colab": {}
      },
      "source": [
        "def modPow(a, e, n): # a^e mod n\n",
        "  x = 1\n",
        "  y = a\n",
        "  while e != 0:\n",
        "    if e % 2 == 1:\n",
        "      x = (x * y) % n\n",
        "    y = (y * y) % n\n",
        "    e >>= 1\n",
        "  return x % n"
      ],
      "execution_count": 0,
      "outputs": []
    },
    {
      "cell_type": "markdown",
      "metadata": {
        "id": "WnriGzpT1JXV",
        "colab_type": "text"
      },
      "source": [
        "Since p and q are prime phi(n) = phi(p) * phi(q) = p-1 * q-1"
      ]
    },
    {
      "cell_type": "code",
      "metadata": {
        "id": "HmPzqdtchp6C",
        "colab_type": "code",
        "outputId": "a695b55a-d1df-4237-e7fb-e1d6568be0aa",
        "colab": {
          "base_uri": "https://localhost:8080/",
          "height": 53
        }
      },
      "source": [
        "phi_n = (p-1) * (q-1)\n",
        "d = modinv(67,phi_n)\n",
        "m = modPow(c, d, n)\n",
        "print(m)"
      ],
      "execution_count": 17,
      "outputs": [
        {
          "output_type": "stream",
          "text": [
            "30256242323116471143377579036851734956599566784957808777900084159344311403348077243305468893900944356797865493742870723640786398026030923177760147308711037452403389422258824881485692843121042180280211955250327896263032672055294111900141070981523217773015658586930923177732713966172972763510074059270940820416\n"
          ],
          "name": "stdout"
        }
      ]
    },
    {
      "cell_type": "markdown",
      "metadata": {
        "id": "5-9tpvSnOcoM",
        "colab_type": "text"
      },
      "source": [
        "m = 30256242323116471143377579036851734956599566784957808777900084159344311403348077243305468893900944356797865493742870723640786398026030923177760147308711037452403389422258824881485692843121042180280211955250327896263032672055294111900141070981523217773015658586930923177732713966172972763510074059270940820416"
      ]
    },
    {
      "cell_type": "markdown",
      "metadata": {
        "id": "8ngSHLRS1WTZ",
        "colab_type": "text"
      },
      "source": [
        "# Question 3\n",
        "Solve the following equations of the form ax = b mod n and find all solutions for x if a solution exists. In case there is no solution, your answer must be “NO SOLUTION”, and explain why there is no solution.\n",
        "\n",
        "*   A) n = 333837116253674643166082492900 \n",
        "\n",
        "    a = 57063337401967433471889139534\n",
        " \n",
        "    b = 397555361861029295385484594412  \n",
        "\n",
        ".\n",
        "\n",
        "*   B)\tn = 333837116253674643166082492900\n",
        "\n",
        "    a = 176622984297114106732586191098 \n",
        "\n",
        "    b = 84172329859897226978948124629  \n",
        "\n",
        ".\n",
        "*   C)\tn = 333837116253674643166082492900 \n",
        "\n",
        "    a = 320736651991764172584335713727 \n",
        "\n",
        "    b = 30472957776104045808802882504  \n"
      ]
    },
    {
      "cell_type": "code",
      "metadata": {
        "id": "VRjZzP6j3she",
        "colab_type": "code",
        "colab": {}
      },
      "source": [
        "def solveCongruence(a, b, n): # a*x = b (mod n)\n",
        "  d = gcd(a, n)\n",
        "  if d == 1:\n",
        "    x =  b*modinv(a,n) %n\n",
        "    print('x =', x)\n",
        "    return x\n",
        "  elif(b % d == 0):\n",
        "    x = ((b//d)*modinv(a//d,n//d)) %(n//d)\n",
        "    temp = []\n",
        "    for k in range(d):\n",
        "      temp.append(int(x + k*n//d))\n",
        "    print('x =', temp)\n",
        "    return temp\n",
        "  else:\n",
        "    print('NO SOLUTION')\n",
        "  return None"
      ],
      "execution_count": 0,
      "outputs": []
    },
    {
      "cell_type": "markdown",
      "metadata": {
        "id": "yn4FgGXF2AG0",
        "colab_type": "text"
      },
      "source": [
        "**A)**"
      ]
    },
    {
      "cell_type": "code",
      "metadata": {
        "id": "bp9S_h7W2Gim",
        "colab_type": "code",
        "colab": {}
      },
      "source": [
        "n = 333837116253674643166082492900 \n",
        "a = 57063337401967433471889139534\n",
        "b = 397555361861029295385484594412  \n",
        "\n",
        "solveCongruence(a,b,n)"
      ],
      "execution_count": 0,
      "outputs": []
    },
    {
      "cell_type": "markdown",
      "metadata": {
        "id": "QFWgC4YFRkTa",
        "colab_type": "text"
      },
      "source": [
        "x = [1632949440937904653800123918, 168551507567775226236841370368]\n"
      ]
    },
    {
      "cell_type": "markdown",
      "metadata": {
        "id": "7LtrPaemRqtp",
        "colab_type": "text"
      },
      "source": [
        "**B)**"
      ]
    },
    {
      "cell_type": "code",
      "metadata": {
        "id": "1As9tV7fRnCe",
        "colab_type": "code",
        "outputId": "91e84a80-3993-4a74-bcf5-bd708ac92b94",
        "colab": {
          "base_uri": "https://localhost:8080/",
          "height": 33
        }
      },
      "source": [
        "n = 333837116253674643166082492900\n",
        "a = 176622984297114106732586191098\n",
        "b = 84172329859897226978948124629\n",
        "solveCongruence(a, b, n)"
      ],
      "execution_count": 21,
      "outputs": [
        {
          "output_type": "stream",
          "text": [
            "NO SOLUTION\n"
          ],
          "name": "stdout"
        }
      ]
    },
    {
      "cell_type": "markdown",
      "metadata": {
        "id": "89s5bdXzRndF",
        "colab_type": "text"
      },
      "source": [
        "NO SOLUTION\n",
        "\n",
        "The congruence above has no solutions because gcd(a, n) does not divide b."
      ]
    },
    {
      "cell_type": "markdown",
      "metadata": {
        "id": "8g2ixOOGrxiN",
        "colab_type": "text"
      },
      "source": [
        "**C)**"
      ]
    },
    {
      "cell_type": "code",
      "metadata": {
        "id": "EWtSyntPRny8",
        "colab_type": "code",
        "colab": {}
      },
      "source": [
        "n = 333837116253674643166082492900\n",
        "a = 320736651991764172584335713727\n",
        "b = 30472957776104045808802882504\n",
        "solveCongruence(a, b, n)"
      ],
      "execution_count": 0,
      "outputs": []
    },
    {
      "cell_type": "markdown",
      "metadata": {
        "id": "uTHCreKsr3Ul",
        "colab_type": "text"
      },
      "source": [
        "x = 327252728639173874206458501252"
      ]
    },
    {
      "cell_type": "markdown",
      "metadata": {
        "id": "QKvjxh2MRoEt",
        "colab_type": "text"
      },
      "source": [
        "# Question 4\n",
        "Consider the following binary connections polynomials for LFSR: \t\t\t\n",
        "p1(x) = x^5 + x^2 + 1\n",
        "\n",
        "p2(x) = x^5 + x^3 + x^2 + 1\n",
        "\n",
        "Do they generate maximum period sequences?  (Hint: You can use the functions in lfsr.py)\n"
      ]
    },
    {
      "cell_type": "code",
      "metadata": {
        "id": "OaCnTY6XtVBt",
        "colab_type": "code",
        "outputId": "09c06669-8f94-4fc6-f845-c19493949d84",
        "colab": {
          "base_uri": "https://localhost:8080/",
          "height": 100
        }
      },
      "source": [
        "length = 100\n",
        "L = 5\n",
        "C = [0] * (L+1)\n",
        "S = [0] * L\n",
        "C[0] = C[2] = C[5] = 1 # x^0 + x^2 + x^5\n",
        "for i in range(0,L):            # for random initial state\n",
        "    S[i] = random.randint(0, 1)\n",
        "print (\"Initial state: \", S) \n",
        "\n",
        "keystream = [0]*length\n",
        "for i in range(0,length):\n",
        "     keystream[i] = LFSR(C, S)\n",
        "    \n",
        "print (\"First period: \", FindPeriod(keystream))\n",
        "print(\"Possible maximum period:\", 2**L-1)\n",
        "print(\"Is maximum period:\", (2**L - 1) == FindPeriod(keystream))\n",
        "print(BM(keystream))"
      ],
      "execution_count": 35,
      "outputs": [
        {
          "output_type": "stream",
          "text": [
            "Initial state:  [1, 1, 1, 1, 0]\n",
            "First period:  31\n",
            "Possible maximum period: 31\n",
            "Is maximum period: True\n",
            "(5, [1, 0, 1, 0, 0, 1])\n"
          ],
          "name": "stdout"
        }
      ]
    },
    {
      "cell_type": "markdown",
      "metadata": {
        "id": "rApEHryJigw8",
        "colab_type": "text"
      },
      "source": [
        "For p1(x) it generates the maximum period sequences when the length is greater than 61."
      ]
    },
    {
      "cell_type": "code",
      "metadata": {
        "id": "PrVqhouBjY1z",
        "colab_type": "code",
        "outputId": "9a21cddf-8b16-4038-f30f-97e0e00fe1c8",
        "colab": {
          "base_uri": "https://localhost:8080/",
          "height": 84
        }
      },
      "source": [
        "length = 100\n",
        "L = 5\n",
        "C = [0] * (L+1)\n",
        "S = [0] * L\n",
        "C[0] = C[2] = C[3] = C[5] = 1 # x^0 + x^2 + x^3 + x^5\n",
        "for i in range(0,L):            # for random initial state\n",
        "    S[i] = random.randint(0, 1)\n",
        "print (\"Initial state: \", S) \n",
        "\n",
        "keystream = [0]*length\n",
        "for i in range(0,length):\n",
        "     keystream[i] = LFSR(C, S)\n",
        "    \n",
        "print (\"First period: \", FindPeriod(keystream))\n",
        "print(\"Possible maximum period:\", 2**L-1)\n",
        "print(\"Is maximum period:\", (2**L - 1) == FindPeriod(keystream))"
      ],
      "execution_count": 36,
      "outputs": [
        {
          "output_type": "stream",
          "text": [
            "Initial state:  [1, 1, 0, 1, 1]\n",
            "First period:  3\n",
            "Possible maximum period: 31\n",
            "Is maximum period: False\n"
          ],
          "name": "stdout"
        }
      ]
    },
    {
      "cell_type": "markdown",
      "metadata": {
        "id": "KGUklsQXjqCV",
        "colab_type": "text"
      },
      "source": [
        "For p2(x) the maximum period is 2^L - 1 however this does not generate the maximum period, it only generates values smaller than 31. It might be because it is not a prime polynomial.  "
      ]
    },
    {
      "cell_type": "markdown",
      "metadata": {
        "id": "BUHuJINyktXP",
        "colab_type": "text"
      },
      "source": [
        "# Question 5\n",
        "Consider a random number generator that generates the following sequences.  Are they unpredictable? (Hint: You can use the functions in lfsr.py)\n",
        "\n",
        "x1 = [1, 1, 0, 1, 1, 0, 0, 1, 0, 0, 1, 0, 1, 0, 0, 0, 0, 0, 1, 0, 0, 1, 0, 1, 1, 1, 1, 1, 0, 0, 0, 1, 1, 0, 0, 0, 0, 0, 1, 0, 0, 0, 0, 1, 0, 0, 1, 0, 0, 0, 0, 0, 1, 0, 1, 0, 1, 0, 1, 1, 0, 1, 0, 1, 1, 0, 1, 1, 0, 0, 1, 0, 0, 1, 1, 0, 1, 0, 0, 1, 0, 0, 1, 1, 0, 0, 1, 1, 0, 0, 0, 0, 1, 0, 1, 0, 0, 0, 1, 0]\n",
        "\n",
        "x2 = [0, 1, 0, 0, 0, 1, 0, 1, 1, 1, 1, 0, 1, 0, 0, 0, 0, 0, 0, 1, 1, 1, 1, 1, 0, 0, 0, 1, 0, 1, 1, 0, 0, 1, 0, 0, 0, 0, 1, 1, 1, 0, 1, 0, 0, 1, 0, 0, 1, 0, 1, 0, 1, 0, 1, 1, 0, 1, 0, 0, 0, 1, 0, 0, 0, 0, 0, 0, 0, 1, 1, 1, 1, 0, 1, 1, 1, 1, 1, 0, 1, 0, 0, 0, 0, 1, 1, 0, 0, 1, 0, 0, 0, 0, 0, 0, 0, 0, 0, 0]\n",
        "\n",
        "x3 = [1, 0, 0, 0, 1, 0, 0, 0, 1, 0, 1, 1, 1, 1, 0, 1, 0, 1, 0, 0, 0, 1, 0, 0, 1, 1, 0, 1, 1, 0, 0, 0, 0, 0, 0, 1, 0, 0, 1, 1, 0, 0, 0, 1, 1, 0, 0, 1, 1, 0, 1, 1, 1, 1, 1, 0, 0, 1, 1, 1, 1, 1, 1, 1, 1, 1, 0, 1, 1, 1, 0, 1, 1, 0, 0, 0, 0, 0, 1, 1, 0, 0, 0, 1, 1, 1, 1, 1, 0, 0, 0, 1, 1, 1, 0, 0, 0, 0, 1, 1]\n"
      ]
    },
    {
      "cell_type": "code",
      "metadata": {
        "id": "8iJpGk5Fku1d",
        "colab_type": "code",
        "outputId": "41368aaf-b3eb-4f0c-f05e-e0c157327cf0",
        "colab": {
          "base_uri": "https://localhost:8080/",
          "height": 87
        }
      },
      "source": [
        "x1 = [1, 1, 0, 1, 1, 0, 0, 1, 0, 0, 1, 0, 1, 0, 0, 0, 0, 0, 1, 0, 0, 1, 0, 1, 1, 1, 1, 1, 0, 0, 0, 1, 1, 0, 0, 0, 0, 0, 1, 0, 0, 0, 0, 1, 0, 0, 1, 0, 0, 0, 0, 0, 1, 0, 1, 0, 1, 0, 1, 1, 0, 1, 0, 1, 1, 0, 1, 1, 0, 0, 1, 0, 0, 1, 1, 0, 1, 0, 0, 1, 0, 0, 1, 1, 0, 0, 1, 1, 0, 0, 0, 0, 1, 0, 1, 0, 0, 0, 1, 0]\n",
        "x2 = [0, 1, 0, 0, 0, 1, 0, 1, 1, 1, 1, 0, 1, 0, 0, 0, 0, 0, 0, 1, 1, 1, 1, 1, 0, 0, 0, 1, 0, 1, 1, 0, 0, 1, 0, 0, 0, 0, 1, 1, 1, 0, 1, 0, 0, 1, 0, 0, 1, 0, 1, 0, 1, 0, 1, 1, 0, 1, 0, 0, 0, 1, 0, 0, 0, 0, 0, 0, 0, 1, 1, 1, 1, 0, 1, 1, 1, 1, 1, 0, 1, 0, 0, 0, 0, 1, 1, 0, 0, 1, 0, 0, 0, 0, 0, 0, 0, 0, 0, 0]\n",
        "x3 = [1, 0, 0, 0, 1, 0, 0, 0, 1, 0, 1, 1, 1, 1, 0, 1, 0, 1, 0, 0, 0, 1, 0, 0, 1, 1, 0, 1, 1, 0, 0, 0, 0, 0, 0, 1, 0, 0, 1, 1, 0, 0, 0, 1, 1, 0, 0, 1, 1, 0, 1, 1, 1, 1, 1, 0, 0, 1, 1, 1, 1, 1, 1, 1, 1, 1, 0, 1, 1, 1, 0, 1, 1, 0, 0, 0, 0, 0, 1, 1, 0, 0, 0, 1, 1, 1, 1, 1, 0, 0, 0, 1, 1, 1, 0, 0, 0, 0, 1, 1]\n",
        "\n",
        "print(BM(x1))\n",
        "print(BM(x2))\n",
        "print(BM(x3))\n"
      ],
      "execution_count": 37,
      "outputs": [
        {
          "output_type": "stream",
          "text": [
            "(31, [1, 0, 0, 1, 0, 0, 0, 0, 0, 0, 0, 0, 0, 0, 0, 0, 0, 0, 0, 0, 0, 0, 0, 0, 0, 0, 0, 0, 0, 0, 0, 1])\n",
            "(31, [1, 0, 0, 1, 0, 0, 0, 0, 0, 0, 0, 0, 0, 0, 0, 0, 0, 0, 0, 0, 0, 0, 0, 0, 0, 0, 0, 0, 0, 0, 0, 1])\n",
            "(31, [1, 0, 0, 1, 0, 0, 0, 0, 0, 0, 0, 0, 0, 0, 0, 0, 0, 0, 0, 0, 0, 0, 0, 0, 0, 0, 0, 0, 0, 0, 0, 1])\n"
          ],
          "name": "stdout"
        }
      ]
    },
    {
      "cell_type": "markdown",
      "metadata": {
        "id": "Nb65dPcxoyeS",
        "colab_type": "text"
      },
      "source": [
        "By using the Berlekamp-Massey Algorithm we can conclude that all 3 sequences are predictable. They all have a linear complexity of L(s^n) = 31 and C(x) = [1, 0, 0, 1, 0, 0, 0, 0, 0, 0, 0, 0, 0, 0, 0, 0, 0, 0, 0, 0, 0, 0, 0, 0, 0, 0, 0, 0, 0, 0, 0, 1]."
      ]
    },
    {
      "cell_type": "markdown",
      "metadata": {
        "id": "XfmQR3mDp-6U",
        "colab_type": "text"
      },
      "source": [
        "# Question 6\n",
        "Consider the following ciphertext bit stream encrypted using a stream cipher. And you strongly suspect that an LFRS is used to generate the key stream:\n",
        "\n",
        "ctext = [0, 0, 1, 1, 1, 0, 0, 0, 0, 1, 1, 1, 1, 1, 0, 0, 1, 0, 1, 0, 0, 0, 1, 0, 0, 1, 1, 1, 1, 0, 1, 0, 0, 0, 0, 0, 0, 0, 0, 0, 1, 1, 0, 1, 0, 0, 0, 0, 0, 0, 1, 1, 0, 1, 1, 1, 1, 0, 0, 1, 0, 1, 1, 1, 0, 1, 1, 0, 1, 0, 0, 1, 1, 0, 0, 0, 0, 1, 1, 0, 0, 0, 0, 1, 0, 0, 0, 0, 0, 1, 0, 0, 1, 0, 0, 0, 1, 0, 1, 1, 1, 0, 0, 0, 0, 0, 0, 1, 0, 0, 0, 0, 1, 0, 1, 0, 1, 1, 1, 1, 0, 1, 1, 0, 0, 1, 1, 1, 1, 1, 1, 0, 0, 0, 1, 0, 0, 1, 0, 0, 1, 1, 0, 1, 0, 1, 1, 0, 0, 1, 0, 0, 1, 1, 1, 1, 1, 0, 1, 1, 0, 0, 1, 1, 1, 1, 1, 1, 1, 0, 1, 0, 0, 0, 1, 0, 1, 1, 0, 1, 1, 1, 0, 0, 0, 1, 0, 0, 1, 0, 1, 1, 1, 0, 1, 0, 1, 1, 1, 1, 0, 0, 1, 0, 0, 1, 0, 0, 0, 0, 1, 1, 1, 1, 0, 0, 0, 0, 1, 0, 1, 1, 1, 0, 1, 0, 0, 1, 1, 1, 1, 0, 0, 1, 0, 1, 1, 0, 1, 0, 0, 0, 1, 0, 1, 1, 0, 1, 0, 0, 1, 0, 0, 0, 0, 1, 0, 0, 0, 1, 1, 0, 0, 0, 0, 1, 0, 1, 1, 0, 0, 1, 1, 1, 0, 0, 1, 1, 0, 0, 1, 0, 0, 1, 0, 0, 1, 1, 0, 0, 0, 0, 0, 0, 0, 1, 0, 1, 1, 1, 1, 1, 0, 0, 0, 1, 1, 1, 0, 0, 1, 1, 1, 1, 0, 1, 1, 1, 0, 1, 1, 0, 0, 1, 1, 1, 1, 0, 1, 1, 0, 0, 1, 1, 0, 1, 1, 0, 0, 1, 0, 1, 0, 0, 0, 0, 0, 0, 0, 0, 0, 1, 0, 0, 0, 1, 1, 1, 0, 0, 0, 1, 1, 0, 1, 1, 0, 1, 1, 1, 0, 1, 1, 1, 0, 1, 1, 1, 1, 1, 1, 0, 0, 1, 1, 0, 0, 0, 1, 1, 0, 0, 0, 0, 1, 0, 0, 1, 0, 1, 1, 1, 1, 0, 0, 0, 0, 1, 1, 0, 1, 1, 1, 1, 1, 1, 0, 0, 0, 1, 1, 1, 1, 0, 0, 0, 1, 1, 1, 1, 1, 0, 1, 0, 0, 0, 0, 0, 1, 1, 1, 0, 0, 0, 1, 0, 1, 1, 0, 0, 1, 0, 1, 1, 1, 1, 1, 0, 0, 1, 1, 1, 1, 0, 0, 0, 0, 0, 1, 1, 1, 0, 1, 1, 1, 0, 0, 1, 1, 1, 1, 1, 1, 0, 0, 0, 1, 0, 0, 0, 1, 0, 1, 0, 1, 1, 1, 1, 0, 1, 1, 1, 0, 1, 0, 1, 0, 0, 1, 1, 1, 1, 1, 0, 0, 1, 1, 1, 0, 1, 1, 1, 1, 0, 0, 0, 1, 0, 1, 1, 1, 0, 0, 0, 0, 0, 0, 1, 0, 1, 1, 0, 0, 0, 0, 1, 0, 0, 1, 1, 0, 1, 1, 1, 0, 0, 0, 1, 1, 0, 1, 0, 1, 1, 0, 1, 0, 1, 0, 1, 1, 0, 1, 1, 0, 0, 1, 1, 1, 1, 0, 1, 0, 1, 1, 1, 1, 1, 1, 1, 1, 1, 0, 1, 0, 0, 0, 1, 1, 0, 0, 0, 0, 0, 0, 0, 1, 0, 1, 1, 0, 1, 1, 0, 0, 0, 1, 0, 1, 1, 1, 0, 1, 0, 0, 1, 0, 0, 1, 1, 1, 0, 0, 1, 1, 0, 0, 1, 1, 1, 1, 0, 1, 0, 0, 1, 1, 1, 1, 1, 0, 1, 0, 1, 0, 0, 0, 0, 0, 1, 0, 1, 0, 0, 0, 0, 0, 1, 0, 1, 1, 0, 1, 0, 1, 1, 0, 0, 0, 0, 0, 1, 1, 0, 1, 0, 1, 1, 1, 0, 0, 1, 1, 1, 0, 0, 1, 0, 1, 1, 0, 1, 1, 1, 0, 0, 0, 0, 1, 0, 1, 0, 0, 0, 0, 1, 0, 0, 0, 1, 0, 0, 1, 0, 1, 0, 1, 1, 1, 0, 0, 0, 1, 1, 0, 1, 1, 1, 0, 1, 0, 0, 0, 0, 0, 0, 1, 1, 0, 1, 0, 0, 1, 1, 1, 1, 0, 1, 1, 0, 0, 1, 1, 0, 1, 1, 1, 0, 0, 0, 1, 0, 0, 1, 0, 0, 0, 1, 1, 0, 0, 0, 0, 1, 1, 0, 1, 1, 1, 0, 0, 1, 1, 0, 1, 0, 0, 0, 0, 1, 1, 0, 0, 0, 0, 0, 1, 0, 0, 1, 1, 1, 1, 1, 1, 1, 0, 1, 0, 1, 1, 0, 0, 0, 1, 1, 1, 0, 0, 1, 1, 1, 0, 0, 0, 0, 1, 0, 1, 1, 1, 0, 0, 1, 0, 0, 1, 0, 0, 1, 0, 0, 0, 1, 0, 0, 1, 1, 0, 1, 1, 1, 0, 1, 1, 0, 1, 0]\n",
        "\n",
        "Also, encrypted in the ciphertext you also know that there is a message to you from the instructor; and therefore the message starts with “Dear Student”. Find the plaintext. For this you need to find the connection polynomial of the LFSR first. Note that the ASCII encoding (seven bits for each ASCII character) is used.  \n",
        "\n",
        "(Hint: You can use the ASCII2bin(msg) and bin2ASCII(msg) functions (in bonus_helper.py) to make conversion between ASCII and binary)\n"
      ]
    },
    {
      "cell_type": "code",
      "metadata": {
        "id": "i2vkiM5qqPkv",
        "colab_type": "code",
        "colab": {}
      },
      "source": [
        "ctext = [0, 0, 1, 1, 1, 0, 0, 0, 0, 1, 1, 1, 1, 1, 0, 0, 1, 0, 1, 0, 0, 0, 1, 0, 0, 1, 1, 1, 1, 0, 1, 0, 0, 0, 0, 0, 0, 0, 0, 0, 1, 1, 0, 1, 0, 0, 0, 0, 0, 0, 1, 1, 0, 1, 1, 1, 1, 0, 0, 1, 0, 1, 1, 1, 0, 1, 1, 0, 1, 0, 0, 1, 1, 0, 0, 0, 0, 1, 1, 0, 0, 0, 0, 1, 0, 0, 0, 0, 0, 1, 0, 0, 1, 0, 0, 0, 1, 0, 1, 1, 1, 0, 0, 0, 0, 0, 0, 1, 0, 0, 0, 0, 1, 0, 1, 0, 1, 1, 1, 1, 0, 1, 1, 0, 0, 1, 1, 1, 1, 1, 1, 0, 0, 0, 1, 0, 0, 1, 0, 0, 1, 1, 0, 1, 0, 1, 1, 0, 0, 1, 0, 0, 1, 1, 1, 1, 1, 0, 1, 1, 0, 0, 1, 1, 1, 1, 1, 1, 1, 0, 1, 0, 0, 0, 1, 0, 1, 1, 0, 1, 1, 1, 0, 0, 0, 1, 0, 0, 1, 0, 1, 1, 1, 0, 1, 0, 1, 1, 1, 1, 0, 0, 1, 0, 0, 1, 0, 0, 0, 0, 1, 1, 1, 1, 0, 0, 0, 0, 1, 0, 1, 1, 1, 0, 1, 0, 0, 1, 1, 1, 1, 0, 0, 1, 0, 1, 1, 0, 1, 0, 0, 0, 1, 0, 1, 1, 0, 1, 0, 0, 1, 0, 0, 0, 0, 1, 0, 0, 0, 1, 1, 0, 0, 0, 0, 1, 0, 1, 1, 0, 0, 1, 1, 1, 0, 0, 1, 1, 0, 0, 1, 0, 0, 1, 0, 0, 1, 1, 0, 0, 0, 0, 0, 0, 0, 1, 0, 1, 1, 1, 1, 1, 0, 0, 0, 1, 1, 1, 0, 0, 1, 1, 1, 1, 0, 1, 1, 1, 0, 1, 1, 0, 0, 1, 1, 1, 1, 0, 1, 1, 0, 0, 1, 1, 0, 1, 1, 0, 0, 1, 0, 1, 0, 0, 0, 0, 0, 0, 0, 0, 0, 1, 0, 0, 0, 1, 1, 1, 0, 0, 0, 1, 1, 0, 1, 1, 0, 1, 1, 1, 0, 1, 1, 1, 0, 1, 1, 1, 1, 1, 1, 0, 0, 1, 1, 0, 0, 0, 1, 1, 0, 0, 0, 0, 1, 0, 0, 1, 0, 1, 1, 1, 1, 0, 0, 0, 0, 1, 1, 0, 1, 1, 1, 1, 1, 1, 0, 0, 0, 1, 1, 1, 1, 0, 0, 0, 1, 1, 1, 1, 1, 0, 1, 0, 0, 0, 0, 0, 1, 1, 1, 0, 0, 0, 1, 0, 1, 1, 0, 0, 1, 0, 1, 1, 1, 1, 1, 0, 0, 1, 1, 1, 1, 0, 0, 0, 0, 0, 1, 1, 1, 0, 1, 1, 1, 0, 0, 1, 1, 1, 1, 1, 1, 0, 0, 0, 1, 0, 0, 0, 1, 0, 1, 0, 1, 1, 1, 1, 0, 1, 1, 1, 0, 1, 0, 1, 0, 0, 1, 1, 1, 1, 1, 0, 0, 1, 1, 1, 0, 1, 1, 1, 1, 0, 0, 0, 1, 0, 1, 1, 1, 0, 0, 0, 0, 0, 0, 1, 0, 1, 1, 0, 0, 0, 0, 1, 0, 0, 1, 1, 0, 1, 1, 1, 0, 0, 0, 1, 1, 0, 1, 0, 1, 1, 0, 1, 0, 1, 0, 1, 1, 0, 1, 1, 0, 0, 1, 1, 1, 1, 0, 1, 0, 1, 1, 1, 1, 1, 1, 1, 1, 1, 0, 1, 0, 0, 0, 1, 1, 0, 0, 0, 0, 0, 0, 0, 1, 0, 1, 1, 0, 1, 1, 0, 0, 0, 1, 0, 1, 1, 1, 0, 1, 0, 0, 1, 0, 0, 1, 1, 1, 0, 0, 1, 1, 0, 0, 1, 1, 1, 1, 0, 1, 0, 0, 1, 1, 1, 1, 1, 0, 1, 0, 1, 0, 0, 0, 0, 0, 1, 0, 1, 0, 0, 0, 0, 0, 1, 0, 1, 1, 0, 1, 0, 1, 1, 0, 0, 0, 0, 0, 1, 1, 0, 1, 0, 1, 1, 1, 0, 0, 1, 1, 1, 0, 0, 1, 0, 1, 1, 0, 1, 1, 1, 0, 0, 0, 0, 1, 0, 1, 0, 0, 0, 0, 1, 0, 0, 0, 1, 0, 0, 1, 0, 1, 0, 1, 1, 1, 0, 0, 0, 1, 1, 0, 1, 1, 1, 0, 1, 0, 0, 0, 0, 0, 0, 1, 1, 0, 1, 0, 0, 1, 1, 1, 1, 0, 1, 1, 0, 0, 1, 1, 0, 1, 1, 1, 0, 0, 0, 1, 0, 0, 1, 0, 0, 0, 1, 1, 0, 0, 0, 0, 1, 1, 0, 1, 1, 1, 0, 0, 1, 1, 0, 1, 0, 0, 0, 0, 1, 1, 0, 0, 0, 0, 0, 1, 0, 0, 1, 1, 1, 1, 1, 1, 1, 0, 1, 0, 1, 1, 0, 0, 0, 1, 1, 1, 0, 0, 1, 1, 1, 0, 0, 0, 0, 1, 0, 1, 1, 1, 0, 0, 1, 0, 0, 1, 0, 0, 1, 0, 0, 0, 1, 0, 0, 1, 1, 0, 1, 1, 1, 0, 1, 1, 0, 1, 0]"
      ],
      "execution_count": 0,
      "outputs": []
    },
    {
      "cell_type": "markdown",
      "metadata": {
        "id": "OEZ--TKV6qBL",
        "colab_type": "text"
      },
      "source": [
        "Since we know that the message starts with 'Dear Student', we know the first 84 bits of the plain text and when we XOR it with the cipher text we should be able to find the first 84 keys.\n",
        "\n",
        "Now we can use Berlekamp-Massey Algorithm to find the length of the polynomial for the LFSR and the first 84 *keys*"
      ]
    },
    {
      "cell_type": "markdown",
      "metadata": {
        "id": "jURtfhl1Rj2H",
        "colab_type": "text"
      },
      "source": [
        "Let the length of the polynomial coefficients (not including the constant) be L.\n",
        "\n",
        "To calculate the ith key we take the last L known keys (from i-L-1 to i-1) and we add them and take the modulus of 2.\n",
        "\n",
        "OR we can simply take the dot product of the last L known keys with the polynomial coefficients and take the modulus of 2.\n"
      ]
    },
    {
      "cell_type": "code",
      "metadata": {
        "id": "bcMxjl4tvgmG",
        "colab_type": "code",
        "colab": {}
      },
      "source": [
        "import numpy as np"
      ],
      "execution_count": 0,
      "outputs": []
    },
    {
      "cell_type": "code",
      "metadata": {
        "id": "MLFIkiq6J8L2",
        "colab_type": "code",
        "colab": {}
      },
      "source": [
        "ptext_84 = ASCII2bin('Dear Student')\n",
        "keys = []\n",
        "for i in range(len(ptext_84)):\n",
        "  keys.append(ptext_84[i]^ctext[i])\n",
        "\n",
        "L, poly = BM(keys)\n",
        "for i in range(84, len(ctext)):\n",
        "  keys.append(np.dot(keys[i:i-L-1:-1],poly[1:]) % 2)\n"
      ],
      "execution_count": 0,
      "outputs": []
    },
    {
      "cell_type": "markdown",
      "metadata": {
        "id": "DqKT492UTHrZ",
        "colab_type": "text"
      },
      "source": [
        "after that we will have all the keys, we can xor the keys with the cipher text to get our plain text in binary format. Then convert it into ascii to get our message"
      ]
    },
    {
      "cell_type": "code",
      "metadata": {
        "id": "ZmTwYu8BNmgc",
        "colab_type": "code",
        "outputId": "201237f1-725a-45b2-b0ba-eb635ff696fe",
        "colab": {
          "base_uri": "https://localhost:8080/",
          "height": 100
        }
      },
      "source": [
        "ptext = [(keys[i]+ctext[i])%2 for i in range(len(ctext))]\n",
        "  \n",
        "print(bin2ASCII(ptext))"
      ],
      "execution_count": 41,
      "outputs": [
        {
          "output_type": "stream",
          "text": [
            "Dear Student, \n",
            "You have worked hard and that paid off:) \n",
            "You have just earned 20 bonus points. Congrats! \n",
            "Best, \n",
            "Erkay Savas\n"
          ],
          "name": "stdout"
        }
      ]
    },
    {
      "cell_type": "markdown",
      "metadata": {
        "id": "twKiLakPTJL7",
        "colab_type": "text"
      },
      "source": [
        "Dear Student, \n",
        "You have worked hard and that paid off:) \n",
        "You have just earned 20 bonus points. Congrats! \n",
        "Best, \n",
        "Erkay Savas"
      ]
    }
  ]
}
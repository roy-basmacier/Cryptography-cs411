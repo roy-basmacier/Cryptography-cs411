{
  "nbformat": 4,
  "nbformat_minor": 0,
  "metadata": {
    "colab": {
      "name": "cs411_hw4.ipynb",
      "provenance": []
    },
    "kernelspec": {
      "name": "python3",
      "display_name": "Python 3"
    }
  },
  "cells": [
    {
      "cell_type": "markdown",
      "metadata": {
        "id": "PT8CLEaOZWun",
        "colab_type": "text"
      },
      "source": [
        "# Question 1"
      ]
    },
    {
      "cell_type": "markdown",
      "metadata": {
        "id": "Sm5_hzMKZZ6R",
        "colab_type": "text"
      },
      "source": [
        "Consider the RSA-OAEP implementation given the file “RSA_OAEP.py”, in which the random number R is an 8-bit unsigned integer. Using the public key\n",
        "\n",
        "\t(e, N) = (65537, 70212284026476551287497867344660173062242619935306997607985987428352052911293)\n",
        "\n",
        "I encrypted my 4 decimal digit PIN and the resulting ciphertext is \n",
        "\n",
        "\tc = 60400943706823506830284280114139818288715016023417103465230780522075862090739\n",
        "\n",
        "What is my PIN? Submit your code used in finding my PIN. \n",
        "\n"
      ]
    },
    {
      "cell_type": "code",
      "metadata": {
        "id": "8vqHdjMbZxxR",
        "colab_type": "code",
        "outputId": "3d3a528b-5a15-42ef-8111-ace6d4ac96b1",
        "colab": {
          "base_uri": "https://localhost:8080/",
          "height": 271
        }
      },
      "source": [
        "!pip install pyprimes\n",
        "!pip install pycryptodome"
      ],
      "execution_count": 2,
      "outputs": [
        {
          "output_type": "stream",
          "text": [
            "Collecting pyprimes\n",
            "  Downloading https://files.pythonhosted.org/packages/2c/56/7fdfee6a5912e6aa62e94ce3b17a20826e336f7fe9c62d30683221a1e68a/pyprimes-0.1.tar.gz\n",
            "Building wheels for collected packages: pyprimes\n",
            "  Building wheel for pyprimes (setup.py) ... \u001b[?25l\u001b[?25hdone\n",
            "  Created wheel for pyprimes: filename=pyprimes-0.1-cp36-none-any.whl size=13531 sha256=e5c5a9202ad745fb5636ebf5909f48952b2e2dbe27d0de83f9ea6628d136604c\n",
            "  Stored in directory: /root/.cache/pip/wheels/be/e8/78/469e93f10ce9be93e3cd49f84bd1c76ecb42962f4f6b49bc70\n",
            "Successfully built pyprimes\n",
            "Installing collected packages: pyprimes\n",
            "Successfully installed pyprimes-0.1\n",
            "Collecting pycryptodome\n",
            "\u001b[?25l  Downloading https://files.pythonhosted.org/packages/93/79/30fb604bf82abbab621ecdbbca932d294e1d4cf95336bb3fc2b5871d297a/pycryptodome-3.9.4-cp36-cp36m-manylinux1_x86_64.whl (9.7MB)\n",
            "\u001b[K     |████████████████████████████████| 9.7MB 9.8MB/s \n",
            "\u001b[?25hInstalling collected packages: pycryptodome\n",
            "Successfully installed pycryptodome-3.9.4\n"
          ],
          "name": "stdout"
        }
      ]
    },
    {
      "cell_type": "code",
      "metadata": {
        "id": "x7FTyZX9ZxNW",
        "colab_type": "code",
        "colab": {}
      },
      "source": [
        "import math\n",
        "import timeit\n",
        "import random\n",
        "import pyprimes\n",
        "import warnings\n",
        "from Crypto.Hash import SHA3_256\n",
        "from Crypto.Hash import SHA3_384\n",
        "from Crypto.Hash import SHA3_512\n",
        "from Crypto.Hash import SHAKE128, SHAKE256\n"
      ],
      "execution_count": 0,
      "outputs": []
    },
    {
      "cell_type": "code",
      "metadata": {
        "id": "CQbTAaoeX9Tj",
        "colab_type": "code",
        "outputId": "f19356e2-5560-44d2-d864-984018f9da62",
        "colab": {
          "base_uri": "https://localhost:8080/",
          "height": 170
        }
      },
      "source": [
        "def egcd(a, b):\n",
        "    x,y, u,v = 0,1, 1,0\n",
        "    while a != 0:\n",
        "        q, r = b//a, b%a\n",
        "        m, n = x-u*q, y-v*q\n",
        "        b,a, x,y, u,v = a,r, u,v, m,n\n",
        "    gcd = b\n",
        "    return gcd, x, y\n",
        "\n",
        "def modinv(a, m):\n",
        "    gcd, x, y = egcd(a, m)\n",
        "    if gcd != 1:\n",
        "        return None  # modular inverse does not exist\n",
        "    else:\n",
        "        return x % m\n",
        "\n",
        "def random_prime(bitsize):\n",
        "    warnings.simplefilter('ignore')\n",
        "    chck = False\n",
        "    while chck == False:\n",
        "        p = random.randrange(2**(bitsize-1), 2**(bitsize)-1)\n",
        "        chck = pyprimes.isprime(p)\n",
        "    warnings.simplefilter('default')    \n",
        "    return p\n",
        " \n",
        "k0 = 8\n",
        "k1 = 128\n",
        "\n",
        "def RSA_KeyGen(bitsize):\n",
        "    p = random_prime(bitsize)\n",
        "    q = random_prime(bitsize)\n",
        "    N = p*q\n",
        "    phi_N = (p-1)*(q-1)\n",
        "    e = 2**16+1\n",
        "    while True:\n",
        "        gcd, x, y = egcd(e, phi_N)\n",
        "        if gcd == 1:\n",
        "            break\n",
        "        e = e+2\n",
        "    d = modinv(e, phi_N)    \n",
        "    return e, d, p, q, N\n",
        "\n",
        "def RSA_OAEP_Enc(m, e, N, R):\n",
        "    k = N.bit_length()-2\n",
        "    m0k1 = m << k1\n",
        "    shake = SHAKE128.new(R.to_bytes(k0//8, byteorder='big'))\n",
        "    GR =  shake.read((k-k0)//8)\n",
        "    m0k1GR = m0k1 ^ int.from_bytes(GR, byteorder='big')\n",
        "    shake = SHAKE128.new(m0k1GR.to_bytes((m0k1GR.bit_length()+7)//8, byteorder='big'))\n",
        "    Hm0k1GR =  shake.read(k0//8)\n",
        "    RHm0k1GR = R ^ int.from_bytes(Hm0k1GR, byteorder='big')\n",
        "    m_ = (m0k1GR << k0) + RHm0k1GR\n",
        "    c = pow(m_, e, N)\n",
        "    return c\n",
        "\n",
        "def RSA_OAEP_Dec(c, d, N):\n",
        "    k = N.bit_length()-2\n",
        "    m_ = pow(c, d, N)\n",
        "    m0k1GR = m_ >> k0\n",
        "    RHm0k1GR =  m_ % 2**k0\n",
        "    shake = SHAKE128.new(m0k1GR.to_bytes((m0k1GR.bit_length()+7)//8, byteorder='big'))\n",
        "    Hm0k1GR =  shake.read(k0//8)\n",
        "    R = int.from_bytes(Hm0k1GR, byteorder='big') ^ RHm0k1GR\n",
        "    shake = SHAKE128.new(R.to_bytes(k0//8, byteorder='big'))\n",
        "    GR =  shake.read((k-k0)//8)\n",
        "    m0k1 = m0k1GR ^ int.from_bytes(GR, byteorder='big')\n",
        "    m = m0k1 >> k1\n",
        "    return m\n",
        "\n",
        "e, d, p, q, N = RSA_KeyGen(128)\n",
        "print(\"p =\", p)\n",
        "print(\"q =\", q)\n",
        "print(\"N =\", N)\n",
        "print(\"e =\", e)\n",
        "print(\"d =\", d)\n",
        "\n",
        "print(\"\\nTesting Encryption and Decryption Functions\")\n",
        "failure = 0\n",
        "for i in range(0, 10):\n",
        "    m = random.randint(0,10000)\n",
        "    R =  random.randint(2**(k0-1), 2**k0-1)\n",
        "    c = RSA_OAEP_Enc(m, e, N, R)\n",
        "    if m != RSA_OAEP_Dec(c, d, N):\n",
        "        failure += 1 \n",
        "        \n",
        "if failure != 0:\n",
        "    print(\"Failure:(\", failure)\n",
        "else:\n",
        "    print(\"Success:)\")"
      ],
      "execution_count": 4,
      "outputs": [
        {
          "output_type": "stream",
          "text": [
            "p = 332182099476571620307858753995923821859\n",
            "q = 318952866312558023359606206136855625851\n",
            "N = 105950432765775798559296656910865334198357784830271880872556058697433279277009\n",
            "e = 65537\n",
            "d = 32543177313198144941004954508380291703920455037185678048087757937224149130473\n",
            "\n",
            "Testing Encryption and Decryption Functions\n",
            "Success:)\n"
          ],
          "name": "stdout"
        }
      ]
    },
    {
      "cell_type": "code",
      "metadata": {
        "id": "p0L7BZASaHdO",
        "colab_type": "code",
        "outputId": "310523ab-860e-42da-b563-54c149f1ab30",
        "colab": {
          "base_uri": "https://localhost:8080/",
          "height": 50
        }
      },
      "source": [
        "e = 65537\n",
        "N = 70212284026476551287497867344660173062242619935306997607985987428352052911293\n",
        "c = 60400943706823506830284280114139818288715016023417103465230780522075862090739\n",
        "found = False\n",
        "for R in range(2**(8-1), 2**8 -1):\n",
        "  for m in range(0, 9999 + 1):\n",
        "    c_prime = RSA_OAEP_Enc(m, e, N, R)\n",
        "    if c_prime == c:\n",
        "      print('PIN =', m)\n",
        "      print('R =', R)\n",
        "      found = True\n",
        "      break\n",
        "  if found:\n",
        "    break\n",
        "\n",
        "\n"
      ],
      "execution_count": 5,
      "outputs": [
        {
          "output_type": "stream",
          "text": [
            "PIN = 5377\n",
            "R = 157\n"
          ],
          "name": "stdout"
        }
      ]
    },
    {
      "cell_type": "markdown",
      "metadata": {
        "id": "LHHfjMr2dxWV",
        "colab_type": "text"
      },
      "source": [
        "PIN is 5377\n",
        "\n",
        "R is 157"
      ]
    },
    {
      "cell_type": "markdown",
      "metadata": {
        "id": "Sl5snLIed2jE",
        "colab_type": "text"
      },
      "source": [
        "# Question 2\n"
      ]
    },
    {
      "cell_type": "markdown",
      "metadata": {
        "id": "GfE4r6j7d6Yh",
        "colab_type": "text"
      },
      "source": [
        "Consider the ElGamal encryption algorithm implemented in the file “ElGamal.py”, which contains flaw.  I used this implementation to encrypt a message using the following parameters:\n",
        "\n",
        "\tq = 1331165794223730998214479682055290809139803703979\n",
        "\tp = 157985265365233926063394088702502775477411699807450440916775405947257964574813502993749815770128973338289285516154109088043476314331444397215358170585840641049172791477662283893716386808139204949694492602287891654767148522867881937046157301612266431912023462991540765986938468014946969764702086638496649455657\n",
        "\tg = 135065956040029542891335614580458248416002250295204395146754036299690682917789289716583464736425816867965184913947179997468650756414729019331183463002574881956749358833871584578559474520218159551812002168419391427229522879948629379275361929622066470148375436287416532348407065836711249965189758444892419490190\n",
        "\tpublic key (h) =  65369531380434811091013169285144074654274264126019340876116721977646567453108441439476580614131141018711217039183159447339703498645723099709331310035001607050335740436825222938421053125935986024030566120585714682225125302549720107383365077208839310065478286374555114097276440333388769523316671044117487454589\n",
        "\n",
        "And the resulting ciphertext is\n",
        "\n",
        "\tr = 3603216964442507357032842714265491356140106170126012271249273782498781062854993590551963255079610858746338241608699542316440867356686210833642816015952448905408390917797105408900214398591806869245572453652902222971116293353284737156497321871750301615013009395209713928847567903247743033867199791859981117263 \n",
        "\tt= 42244680577489180150438247901105682607063917920969521526593784819134087337617171624434658483262821880559452723151685731248400300205495303414447593079691461437018769475479437685274446474785220966939670711206064076236087750024913718835564780638938635976122622009741305316868203434730711663863398065249173925645\n",
        "\n",
        "Can you find my message?\n"
      ]
    },
    {
      "cell_type": "code",
      "metadata": {
        "id": "1YnaG6H4eY8z",
        "colab_type": "code",
        "colab": {}
      },
      "source": [
        "import random\n",
        "import pyprimes\n",
        "import warnings"
      ],
      "execution_count": 0,
      "outputs": []
    },
    {
      "cell_type": "code",
      "metadata": {
        "id": "Bxm5pINbeLqr",
        "colab_type": "code",
        "outputId": "b8c4b3f1-d7fe-4c76-e821-51e838173988",
        "colab": {
          "base_uri": "https://localhost:8080/",
          "height": 187
        }
      },
      "source": [
        "def large_DL_Prime(q, bitsize):\n",
        "    warnings.simplefilter('ignore')\n",
        "    chck = False\n",
        "    while chck == False:\n",
        "        k = random.randrange(2**(bitsize-1), 2**bitsize-1)\n",
        "        p = k*q+1\n",
        "        chck = pyprimes.isprime(p)\n",
        "    warnings.simplefilter('default')    \n",
        "    return p\n",
        "\n",
        "def Param_Generator(qsize, psize):\n",
        "    q = random_prime(qsize)\n",
        "    p = large_DL_Prime(q, psize-qsize)\n",
        "    tmp = (p-1)//q\n",
        "    g = 1\n",
        "    while g == 1:\n",
        "        alpha = random.randrange(1, p)\n",
        "        g = pow(alpha, tmp, p)\n",
        "    return q, p, g\n",
        "\n",
        "# Generating private-public key pair\n",
        "def Key_Gen(q, p, g):\n",
        "    s = random.randint(1, q) # private key\n",
        "    h = pow(g, s, p)         # public key\n",
        "    return s, h\n",
        "\n",
        "# Encryption\n",
        "def Enc(m, h, q, p, g): # m is the message\n",
        "    m = int.from_bytes(message, byteorder='big')\n",
        "    k = random.randint(1, 2**16-1)\n",
        "    r = pow(g, k, p)\n",
        "    t = (pow(h, k, p)*m)%p\n",
        "    return r, t\n",
        "\n",
        "# Decryption\n",
        "def Dec(r, t, s, q, p, g):\n",
        "    m = (pow(r, q-s, p)*t)%p\n",
        "    return m.to_bytes((m.bit_length()+7)//8, byteorder='big')\n",
        "\n",
        "# Test\n",
        "print(\"Testing the ElGamal Encryption and Decryption\")\n",
        "# Generate domain parameters (q, p, g)\n",
        "q, p, g = Param_Generator(160, 1024)\n",
        "print(\"q =\", q)\n",
        "print(\"p =\", p)\n",
        "print(\"g =\", g)\n",
        "\n",
        "# Generate private-public key pairs for a user\n",
        "s, h = Key_Gen(q, p, g)\n",
        "print(\"secret key (s):\", s)\n",
        "print(\"public key (h):\", h)\n",
        "\n",
        "# Encrypt a random message\n",
        "message = b'Hello World!'\n",
        "r, t = Enc(message, h, q, p, g)\n",
        "print(\"ciphertext (r, t):\", r, t)\n",
        "\n",
        "# Decrypt the ciphertext\n",
        "print(\"\\nDecrpyted message:\", Dec(r, t, s, q, p, g))"
      ],
      "execution_count": 7,
      "outputs": [
        {
          "output_type": "stream",
          "text": [
            "Testing the ElGamal Encryption and Decryption\n",
            "q = 748996131086003887997329615486447263958817625353\n",
            "p = 48546109977026151450398613760871582566229994236868692487732628689166244197073316639945675338086252973925767810369792337992208952702973319920974801746291639124850041012780701524450070197193384942586573771892688884082622515875810971233570211478206854008201046476605612523832502167081152268294903606843149001937\n",
            "g = 20083891411479595924485741950434161722659720563509785763906703197012273488487263209613537557493471826826852181609803239168526818819924811114930038072656331544586488514592285609050489323588495024067354790774992210756925727064341925077396439003155035796222263708475032538483344413724714488464051909338622624871\n",
            "secret key (s): 645685936722805149866501818537247685597607607166\n",
            "public key (h): 15061454119313234166262493625952568253990075222508223907373819357785312171884057962941912353453101176509990994688588665731754081406425591487549394756231482509697444678961816959106208161490597359676360688981488190161070516126303069818320087938475249349995836242000284949570634793217185135148690261883651117620\n",
            "ciphertext (r, t): 29233712033803433096718597796167721265832020942849201808213013939754769897308828342877313462210212339767065571522719720109313525719584535578079009973985005503983770741993398741077919082519554227777534005377200700689268588976946816323148291691329863875032054494509269358657010710901464289627601778910420684518 36620181818718762604861736127898137427619190208401921027892678123231252770086578814820606403261644509774724461992077997160777996985473477790990071953006785208915700334144693300654794916594623599109426315605098303356376947271929125295487800362114043111300275610622968913654891604590441067865135448907523939654\n",
            "\n",
            "Decrpyted message: b'Hello World!'\n"
          ],
          "name": "stdout"
        }
      ]
    },
    {
      "cell_type": "code",
      "metadata": {
        "id": "FwRG2zH1eqiW",
        "colab_type": "code",
        "outputId": "36ef8821-5002-4340-b2ee-c943ca8ddd01",
        "colab": {
          "base_uri": "https://localhost:8080/",
          "height": 33
        }
      },
      "source": [
        "# public parameters\n",
        "q = 1331165794223730998214479682055290809139803703979\n",
        "p = 157985265365233926063394088702502775477411699807450440916775405947257964574813502993749815770128973338289285516154109088043476314331444397215358170585840641049172791477662283893716386808139204949694492602287891654767148522867881937046157301612266431912023462991540765986938468014946969764702086638496649455657\n",
        "# primitive root (Alpha)\n",
        "g = 135065956040029542891335614580458248416002250295204395146754036299690682917789289716583464736425816867965184913947179997468650756414729019331183463002574881956749358833871584578559474520218159551812002168419391427229522879948629379275361929622066470148375436287416532348407065836711249965189758444892419490190\n",
        "# public key (Beta)\n",
        "h =  65369531380434811091013169285144074654274264126019340876116721977646567453108441439476580614131141018711217039183159447339703498645723099709331310035001607050335740436825222938421053125935986024030566120585714682225125302549720107383365077208839310065478286374555114097276440333388769523316671044117487454589\n",
        "# ciphertext\n",
        "r = 3603216964442507357032842714265491356140106170126012271249273782498781062854993590551963255079610858746338241608699542316440867356686210833642816015952448905408390917797105408900214398591806869245572453652902222971116293353284737156497321871750301615013009395209713928847567903247743033867199791859981117263 \n",
        "t = 42244680577489180150438247901105682607063917920969521526593784819134087337617171624434658483262821880559452723151685731248400300205495303414447593079691461437018769475479437685274446474785220966939670711206064076236087750024913718835564780638938635976122622009741305316868203434730711663863398065249173925645\n",
        "\n",
        "# compute m = t * h^-k (mod p)\n",
        "\n",
        "# to find k we test for which k value g^k = r (mod p)\n",
        "for k in range(1, 2**16-1):\n",
        "  if pow(g, k, p) == r:\n",
        "    m = (pow(modinv(h, p), k, p) * t) % p\n",
        "    print(m.to_bytes((m.bit_length()+7)//8, byteorder='big'))\n",
        "    break\n"
      ],
      "execution_count": 8,
      "outputs": [
        {
          "output_type": "stream",
          "text": [
            "b'My favorite machine at the gym is the vending machine.'\n"
          ],
          "name": "stdout"
        }
      ]
    },
    {
      "cell_type": "markdown",
      "metadata": {
        "id": "wMvOV9DmqM-u",
        "colab_type": "text"
      },
      "source": [
        "Message: 'My favorite machine at the gym is the vending machine.'"
      ]
    },
    {
      "cell_type": "markdown",
      "metadata": {
        "id": "eX0pI0qheBh_",
        "colab_type": "text"
      },
      "source": [
        "# Question 3\n",
        "\n"
      ]
    },
    {
      "cell_type": "markdown",
      "metadata": {
        "id": "GBCizRG67DJP",
        "colab_type": "text"
      },
      "source": [
        "In Kerberos, the Ticket Granting Server includes the identity of the server (S) in its response to client: E_(K_CG ) (S,K_CS ). What would happen if the identity of the server were not included? Does it lead to an attack?"
      ]
    },
    {
      "cell_type": "markdown",
      "metadata": {
        "id": "yhjwshkq-BKA",
        "colab_type": "text"
      },
      "source": [
        "If the identity of the server is not included when sending the ticket to the client, it would lead to malicious activities. An eavesdropper could intercept the ticket sent from the ticket-granting server. Hence a meet-in-the-middle attack can occur since the server can't identify the client responsible for the request."
      ]
    },
    {
      "cell_type": "markdown",
      "metadata": {
        "id": "ibtwid4LeDj1",
        "colab_type": "text"
      },
      "source": [
        "# Question 4\n"
      ]
    },
    {
      "cell_type": "markdown",
      "metadata": {
        "id": "hCLlwMiYVCy3",
        "colab_type": "text"
      },
      "source": [
        "Alice and Bob wants to establish a secure channel to communicate securely. Suppose Alice and Bob have long term RSA public and private key pairs: (〖pk〗_A,〖sk〗_A) and (〖pk〗_B,〖sk〗_B), respectively. They can use both the RSA signature and encryption algorithms and they know each other’s long term public keys. Show how Alice and Bob can achieve forward secrecy."
      ]
    },
    {
      "cell_type": "markdown",
      "metadata": {
        "id": "yeN-4V3DdAzC",
        "colab_type": "text"
      },
      "source": [
        "To achieve forward secrecy, the compromise of their long term RSA keys should not compromise the past session keys. This can be achieved by using a station-to-station protocol, where Bob sends the encrypted signature (E_k(sign_b(R_B, R_A))) to Alice, this doesn't allow the attacker to compromise a previous session key if they obtain Bob's private key b."
      ]
    },
    {
      "cell_type": "markdown",
      "metadata": {
        "id": "IwpQ9XKbeGpk",
        "colab_type": "text"
      },
      "source": [
        "# Question 5"
      ]
    },
    {
      "cell_type": "markdown",
      "metadata": {
        "id": "qXS5arJzfNjC",
        "colab_type": "text"
      },
      "source": [
        "Consider the DSA scheme implemented in the file “DSA.py”. The public parameters and public key are:\n",
        "\n",
        "\tq = 897434149680309024926610536586679400252190817513\n",
        "\tp = 97223004199266313523049166053330029092380541300786138924873181088471438705453794046370914345592432368059271294544102722787957310837797304650943069820520287549826630230617625792526214799206486444554607275157031742808122667064876655138748567945051878459968434840972135354745893868660267009794876094057307360271\n",
        "\tg = 4621497210057935612371988511711932510361318115609980978853236984314561739819039313271820105098638480214293876477070872723831493769268422441714876014396954567136665583461293138792502100498181714605761615088670098808016625617309860858682957197265294737395362167975930097648958972424479880194787709852371142579\n",
        "\tpublic key (beta): 45720223092558820344769930028614803638859051907129501277880999062740852114889610377894039520973053847174144955552627174266061939323577184681728281156812736603122999262209953001238229439108117677423857541271841004309469066208083385254271589636542160767902921803860270699359911081346969522186114311390226677995\n",
        "\n",
        "You are given two signatures for two different message as follows:\n",
        "\n",
        "\t(message1, r_1, s_1) = (b\"He who laugh last didn't get the joke\", 867552604169477346883674422144796797059303863627, 243861349833858115605937030382497401412336608822)\n",
        "\t(message2, r_2, s_2) = (b\"Ask me no questions, and I'll tell you no lies\" 686145019080375810998084468514665120375929537329, 774583422188330317252601038183072854135396118762)\n",
        "\n",
        "Also, you discovered that k_2= 2k_1  mod q. Show how you can find the secret key a. \n"
      ]
    },
    {
      "cell_type": "code",
      "metadata": {
        "id": "IdIjLFTGgWtN",
        "colab_type": "code",
        "outputId": "07292116-9098-4feb-98bd-835322efb08b",
        "colab": {
          "base_uri": "https://localhost:8080/",
          "height": 154
        }
      },
      "source": [
        "import random\n",
        "import pyprimes\n",
        "import warnings\n",
        "from Crypto.Hash import SHA3_256\n",
        "from Crypto.Hash import SHAKE128\n",
        "\n",
        "def egcd(a, b):\n",
        "    x,y, u,v = 0,1, 1,0\n",
        "    while a != 0:\n",
        "        q, r = b//a, b%a\n",
        "        m, n = x-u*q, y-v*q\n",
        "        b,a, x,y, u,v = a,r, u,v, m,n\n",
        "    gcd = b\n",
        "    return gcd, x, y\n",
        "\n",
        "def modinv(a, m):\n",
        "    if a < 0:\n",
        "        a = a+m\n",
        "    gcd, x, y = egcd(a, m)\n",
        "    if gcd != 1:\n",
        "        return None  # modular inverse does not exist\n",
        "    else:\n",
        "        return x % m\n",
        "    \n",
        "def random_prime(bitsize):\n",
        "    warnings.simplefilter('ignore')\n",
        "    chck = False\n",
        "    while chck == False:\n",
        "        p = random.randrange(2**(bitsize-1), 2**bitsize-1)\n",
        "        chck = pyprimes.isprime(p)\n",
        "    warnings.simplefilter('default')    \n",
        "    return p\n",
        "\n",
        "def large_DL_Prime(q, bitsize):\n",
        "    warnings.simplefilter('ignore')\n",
        "    chck = False\n",
        "    while chck == False:\n",
        "        k = random.randrange(2**(bitsize-1), 2**bitsize-1)\n",
        "        p = k*q+1\n",
        "        chck = pyprimes.isprime(p)\n",
        "    warnings.simplefilter('default')    \n",
        "    return p\n",
        "\n",
        "def Param_Generator(qsize, psize):\n",
        "    q = random_prime(qsize)\n",
        "    p = large_DL_Prime(q, psize-qsize)\n",
        "    tmp = (p-1)//q\n",
        "    g = 1\n",
        "    while g == 1:\n",
        "        alpha = random.randrange(1, p)\n",
        "        g = pow(alpha, tmp, p)\n",
        "    return q, p, g\n",
        "\n",
        "# Generating private-public key pair\n",
        "def Key_Gen(q, p, g):\n",
        "    s = random.randint(1, q) # private key\n",
        "    h = pow(g, s, p)         # public key\n",
        "    return s, h\n",
        "\n",
        "# Signature generation\n",
        "def Sig_Gen(message, a, k, q, p, g):\n",
        "    shake = SHAKE128.new(message)\n",
        "    h = int.from_bytes(shake.read(q.bit_length()//8), byteorder='big')\n",
        "    r = pow(g, k, p)%q\n",
        "    s = (modinv(k, q)*(h+a*r))%q\n",
        "    return r, s\n",
        "\n",
        "# Signature verification\n",
        "def Sig_Ver(message, r, s, beta, q, p, g):\n",
        "    shake = SHAKE128.new(message)\n",
        "    h = int.from_bytes(shake.read(q.bit_length()//8), byteorder='big')\n",
        "    u1 = (modinv(s, q)*h)%q\n",
        "    u2 = (modinv(s, q)*r)%q\n",
        "    v1 = (pow(g, u1, p)*pow(beta, u2, p)%p)%q\n",
        "\n",
        "    if v1 == r:\n",
        "        return True\n",
        "    else:\n",
        "        return False\n",
        "\n",
        "# Test\n",
        "print(\"Testing the DSA signature generation and verification\")\n",
        "# Generate domain parameters (q, p, g)\n",
        "q, p, g = Param_Generator(160, 1024)\n",
        "print(\"q =\", q)\n",
        "print(\"p =\", p)\n",
        "print(\"g =\", g)\n",
        "\n",
        "# Generate private-public key pairs for a user\n",
        "a, beta = Key_Gen(q, p, g)\n",
        "print(\"secret key (a):\", a)\n",
        "print(\"public key (beta):\", beta)\n",
        "\n",
        "message = b'Hello World!'\n",
        "k = random.randint(0, q-1)\n",
        "r, s = Sig_Gen(message, a, k, q, p, g)\n",
        "\n",
        "if Sig_Ver(message, r, s, beta, q, p, g):\n",
        "    print(\"signature verifies:) \")\n",
        "else:\n",
        "    print(\"invalid signature:( \")    \n",
        "\n",
        "\n"
      ],
      "execution_count": 9,
      "outputs": [
        {
          "output_type": "stream",
          "text": [
            "Testing the DSA signature generation and verification\n",
            "q = 1407131678887102197884949280386553898015762812849\n",
            "p = 171297130419273585820398213861753332416809888524744370580608243498491329404903991702417675890204997221189793847847186889923698561540208324467335888522414466002405214970828732676653004810078406529965117972798170184463852720401137350068216866196126824414468333907909730580641086579429545657376789490720020112527\n",
            "g = 114491618344454896130764668002133322499703422962395311438288558762818875131817414595238244249276801465326228309757760583247524416947560657132503749994592834955138361725256094296991368230817603026350085411080623457030571840675707641516973029129086954241783554667557647654768512880602569834463021715961316049383\n",
            "secret key (a): 164297893015201654837688004916190902757118818515\n",
            "public key (beta): 36706770542497520176628163177415311197182286560857478661056494712046190454939818978807675799208711705342659980982501669644284640479846007503007947164728926174074487337709825897533576909147725228565386514119508047975671017562214722565574169612516612309349910229997528366984751229342142448272323670004699242104\n",
            "signature verifies:) \n"
          ],
          "name": "stdout"
        }
      ]
    },
    {
      "cell_type": "code",
      "metadata": {
        "id": "cPjKEtw_fiKG",
        "colab_type": "code",
        "outputId": "f36aae45-0272-4ff5-a943-ec865dd40f4a",
        "colab": {
          "base_uri": "https://localhost:8080/",
          "height": 33
        }
      },
      "source": [
        "q = 897434149680309024926610536586679400252190817513\n",
        "p = 97223004199266313523049166053330029092380541300786138924873181088471438705453794046370914345592432368059271294544102722787957310837797304650943069820520287549826630230617625792526214799206486444554607275157031742808122667064876655138748567945051878459968434840972135354745893868660267009794876094057307360271\n",
        "g = 4621497210057935612371988511711932510361318115609980978853236984314561739819039313271820105098638480214293876477070872723831493769268422441714876014396954567136665583461293138792502100498181714605761615088670098808016625617309860858682957197265294737395362167975930097648958972424479880194787709852371142579\n",
        "beta = 45720223092558820344769930028614803638859051907129501277880999062740852114889610377894039520973053847174144955552627174266061939323577184681728281156812736603122999262209953001238229439108117677423857541271841004309469066208083385254271589636542160767902921803860270699359911081346969522186114311390226677995\n",
        "\n",
        "message1, r_1, s_1 = b\"He who laugh last didn't get the joke\", 867552604169477346883674422144796797059303863627, 243861349833858115605937030382497401412336608822\n",
        "message2, r_2, s_2 = b\"Ask me no questions, and I'll tell you no lies\", 686145019080375810998084468514665120375929537329, 774583422188330317252601038183072854135396118762\n",
        "# k2 = 2*k1 mod q\n",
        "shake = SHAKE128.new(message1)\n",
        "h_1 = int.from_bytes(shake.read(q.bit_length()//8), byteorder='big')\n",
        "shake = SHAKE128.new(message2)\n",
        "h_2 = int.from_bytes(shake.read(q.bit_length()//8), byteorder='big')\n",
        "# a = (s_1*h_2 − s_2*h_1*x)*(s_2*r_1*x − s_1*r_2 )^−1(mod q)\n",
        "\n",
        "a = ((s_1 * h_2 - s_2 * h_1 * 2)*modinv(s_2*r_1*2 - s_1*r_2,q))%q\n",
        "print('a =', a)\n",
        "\n"
      ],
      "execution_count": 10,
      "outputs": [
        {
          "output_type": "stream",
          "text": [
            "a = 253269165174290268846821928601654697793514680881\n"
          ],
          "name": "stdout"
        }
      ]
    },
    {
      "cell_type": "markdown",
      "metadata": {
        "id": "PttNCkJIZS55",
        "colab_type": "text"
      },
      "source": [
        "a = 253269165174290268846821928601654697793514680881"
      ]
    }
  ]
}
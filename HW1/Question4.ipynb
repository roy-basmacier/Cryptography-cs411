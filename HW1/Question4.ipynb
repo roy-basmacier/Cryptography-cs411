{
  "nbformat": 4,
  "nbformat_minor": 0,
  "metadata": {
    "colab": {
      "name": "Question4.ipynb",
      "provenance": []
    },
    "kernelspec": {
      "name": "python3",
      "display_name": "Python 3"
    }
  },
  "cells": [
    {
      "cell_type": "code",
      "metadata": {
        "id": "UMWZOseCM_Fw",
        "colab_type": "code",
        "colab": {}
      },
      "source": [
        "# this is just to install enchant library please restart runtime to avoid errors\n",
        "!sudo apt-get install python-enchant\n",
        "!pip install pyenchant"
      ],
      "execution_count": 0,
      "outputs": []
    },
    {
      "cell_type": "code",
      "metadata": {
        "id": "d_VLJJ8TL5Hq",
        "colab_type": "code",
        "colab": {}
      },
      "source": [
        "'''\n",
        "\n",
        "    5.Decrypt the following plaintext using Vigènere cipher where the secret key is \"SANITY\":\n",
        "    \"A RRNNQW TB IGQOEE BAYL QHMLRAOA WG RZE TZHSFDF BAYL I QWG’R CNBE MFW AAAPCJ. \"s\n",
        "\n",
        "    Note that only the letter characters are encrypted.\n",
        "\n",
        "'''\n",
        "from hw01_helper import *\n",
        "cipherText = \"A RRNNQW TB IGQOEE BAYL QHMLRAOA WG RZE TZHSFDF BAYL I QWG’R CNBE MFW AAAPCJ.\"\n",
        "key = \"SANITY\"\n",
        "\n",
        "# we assume that the key is always in uppercase format\n",
        "def Vigenere_Dec(ctext, key):\n",
        "    ptext = ''\n",
        "    # We will iterate i over the key and we will do so multiple times\n",
        "    i = 0\n",
        "    for ch in ctext:\n",
        "        # Since this is decipher algorithm we will subtract the cipher text's letter from the key's ith letter mod 26\n",
        "        if ch in uppercase:\n",
        "            ptext += inv_uppercase[(uppercase[ch] - uppercase[key[i]]) % 26]\n",
        "            i += 1\n",
        "        elif ch in lowercase:\n",
        "            ptext += inv_lowercase[(lowercase[ch] - uppercase[key[i]]) % 26]\n",
        "            i += 1\n",
        "        else:\n",
        "            ptext += ch\n",
        "        i %= len(key)\n",
        "    return ptext\n",
        "\n",
        "\n",
        "print(Vigenere_Dec(cipherText, key))\n",
        "# What is the plain text?\n",
        "# I REFUSE TO ANSWER THAT QUESTION ON THE GROUNDS THAT I DON’T KNOW THE ANSWER.\n",
        "''' :D '''\n"
      ],
      "execution_count": 0,
      "outputs": []
    }
  ]
}
{
  "nbformat": 4,
  "nbformat_minor": 0,
  "metadata": {
    "colab": {
      "name": "cs411_hw3.ipynb",
      "provenance": [],
      "collapsed_sections": [
        "gJJXKdsUdBvn"
      ]
    },
    "kernelspec": {
      "name": "python3",
      "display_name": "Python 3"
    }
  },
  "cells": [
    {
      "cell_type": "markdown",
      "metadata": {
        "id": "eAxQKaFH2Ppc",
        "colab_type": "text"
      },
      "source": [
        "# Question 1\n",
        "(20 pts) Consider GF(2^8) used in AES with the irreducible polynomial p(x) = x^8+x^4+x^3+x+1. \n",
        "\n",
        "a.\t(10 pts) Perform the following multiplication in GF(2^8):\n",
        "\n",
        "(x^7+ x^6+ x^4+x^3+x^2+1) x (x^7+x^5+ x^3+ x^2+x) = ?\n",
        "\n",
        "b.\t(10 pts) Show that the inverse of (x^7+ x^6+ x^4+x^3+x^2+1) in GF(2^8) is (x^7+ x^6+x^5+x^4+x^3).\n"
      ]
    },
    {
      "cell_type": "code",
      "metadata": {
        "id": "QKKkwKcZ4xYu",
        "colab_type": "code",
        "colab": {}
      },
      "source": [
        "# I took this cell from http://pythonfiddle.com/binary-finite-field-multiplication/\n",
        "from functools import reduce\n",
        "\n",
        "# constants used in the multGF2 function\n",
        "mask1 = mask2 = polyred = None\n",
        "\n",
        "def setGF2(degree, irPoly):\n",
        "    \"\"\"Define parameters of binary finite field GF(2^m)/g(x)\n",
        "       - degree: extension degree of binary field\n",
        "       - irPoly: coefficients of irreducible polynomial g(x)\n",
        "    \"\"\"\n",
        "    def i2P(sInt):\n",
        "        \"\"\"Convert an integer into a polynomial\"\"\"\n",
        "        return [(sInt >> i) & 1\n",
        "                for i in reversed(range(sInt.bit_length()))]    \n",
        "    \n",
        "    global mask1, mask2, polyred\n",
        "    mask1 = mask2 = 1 << degree\n",
        "    mask2 -= 1\n",
        "    polyred = reduce(lambda x, y: (x << 1) + y, i2P(irPoly)[1:])\n",
        "        \n",
        "def multGF2(p1, p2):\n",
        "    \"\"\"Multiply two polynomials in GF(2^m)/g(x)\"\"\"\n",
        "    p = 0\n",
        "    while p2:\n",
        "        if p2 & 1:\n",
        "            p ^= p1\n",
        "        p1 <<= 1\n",
        "        if p1 & mask1:\n",
        "            p1 ^= polyred\n",
        "        p2 >>= 1\n",
        "    return p & mask2"
      ],
      "execution_count": 0,
      "outputs": []
    },
    {
      "cell_type": "code",
      "metadata": {
        "id": "phdy8xeC1Td6",
        "colab_type": "code",
        "outputId": "d0e11716-8c1f-4f60-b50a-8335506139fa",
        "colab": {
          "base_uri": "https://localhost:8080/",
          "height": 33
        }
      },
      "source": [
        "# Set the field\n",
        "setGF2(8, 0b100011011)\n",
        "# x^7+ x^6+ x^4+x^3+x^2+1 TIMES x^7+x^5+ x^3+ x^2+x \n",
        "print(bin(multGF2(0b011011101, 0b010101110)))\n"
      ],
      "execution_count": 85,
      "outputs": [
        {
          "output_type": "stream",
          "text": [
            "0b1100001\n"
          ],
          "name": "stdout"
        }
      ]
    },
    {
      "cell_type": "markdown",
      "metadata": {
        "id": "qNKZeTAI6MMt",
        "colab_type": "text"
      },
      "source": [
        "a) x^6 + x^5 + 1\n",
        "\n",
        "B) The product of the first and second equation should be 1 for it to be the inverse"
      ]
    },
    {
      "cell_type": "code",
      "metadata": {
        "id": "HkageKpC6Xnu",
        "colab_type": "code",
        "colab": {
          "base_uri": "https://localhost:8080/",
          "height": 33
        },
        "outputId": "4f9d676d-f3d7-409a-bf2f-8e9107757964"
      },
      "source": [
        "\n",
        "# x^7 + x^6 + x^4 + x^3 + x^2 + 1 TIMES x^7 + x^6 + x^5 + x^4 + x^3\n",
        "print(bin(multGF2(0b011011101, 0b011111000)))\n"
      ],
      "execution_count": 86,
      "outputs": [
        {
          "output_type": "stream",
          "text": [
            "0b1\n"
          ],
          "name": "stdout"
        }
      ]
    },
    {
      "cell_type": "markdown",
      "metadata": {
        "id": "eqLfdSxr69tQ",
        "colab_type": "text"
      },
      "source": [
        "# Question 2\n",
        "(20 pts) Consider ten digests in the attached file “rainbow_table.py”, each of which is the hash of a six-character password. Your mission is to find those passwords using the rainbow table given in the attached file “rainbowtable.txt”. Complete and submit the Python code in the file “rainbow_table.py” such that it finds and prints out the ten passwords corresponding to the digests"
      ]
    },
    {
      "cell_type": "code",
      "metadata": {
        "id": "Wyt-lWwGyIQl",
        "colab_type": "code",
        "colab": {}
      },
      "source": [
        "!pip install pycryptodome"
      ],
      "execution_count": 0,
      "outputs": []
    },
    {
      "cell_type": "code",
      "metadata": {
        "id": "wk6qfOLpx-xC",
        "colab_type": "code",
        "colab": {
          "base_uri": "https://localhost:8080/",
          "height": 117
        },
        "outputId": "ba306f86-48d7-441a-dce5-e055f718a6d6"
      },
      "source": [
        "# Do not forget to install pycryptodome if not already installed\n",
        "# pip install pycryptodome\n",
        "\n",
        "import random\n",
        "from Crypto.Hash import SHA256\n",
        "from Crypto import Random\n",
        "import json\n",
        "\n",
        "def Reduction(x, Alphabet, length):\n",
        "  pwd = \"\"\n",
        "  t = x\n",
        "  size = len(Alphabet)\n",
        "  for j in range(0,length):\n",
        "    pwd += Alphabet[t%size]\n",
        "    t = t//size\n",
        "  return pwd  \n",
        "\n",
        "Alphabet = {0:'A', 1:'B', 2:'C', 3:'D', 4:'E', 5:'F', 6:'G', 7:'H', 8:'I', 9:'J', 10:'K', 11:'L', 12:'M', 13:'N', 14:'O', 15:'P', 16:'Q', 17:'R', 18:'S', 19:'T', 20:'U', 21:'V', 22:'W', 23:'X', 24:'Y', 25:'Z', 26:'.', 27:',', 28:'!', 29:'?'}\n",
        "alpha_len = len(Alphabet)\n",
        "pwd_len = 6\n",
        "pwd_space = alpha_len**pwd_len \n",
        "t = 2**16\n",
        "m = 2*(pwd_space//t)\n",
        "# Example for computing one link in the chain; i.e., pwd(i+1) = R(H(pwd(i)))\n",
        "print(\"This is how you compute one link in the hash chain\")\n",
        "pwd_i = \"OO,XR.\" # a sample password\n",
        "hash = SHA256.new(pwd_i.encode('utf-8')) # hash it\n",
        "digest = int.from_bytes(hash.digest(), byteorder='big') # convert the hash into an integer\n",
        "pwd_i1 = Reduction(digest%pwd_space, Alphabet, pwd_len) # Reduce it\n",
        "print(\"pwd(i) --> pwd(i+1): \", pwd_i, \"-->\",pwd_i1)\n",
        " \n",
        "# Read the rainbow table\n",
        "f = open(\"rainbowtable.txt\",\"r\")\n",
        "Rainbow_Table = json.loads(f.read())\n",
        "f.close()\n",
        "\n",
        "# Check one link in the rainbow table\n",
        "# Testing again\n",
        "pwd = Rainbow_Table[0][0] # first password in the hash chain\n",
        "for i in range(0, t):\n",
        "  hash = SHA256.new(pwd.encode('utf-8')) # hash it\n",
        "  digest = int.from_bytes(hash.digest(), byteorder='big') # convert the hash into an integer\n",
        "  pwd = Reduction(digest%pwd_space, Alphabet, pwd_len) # Reduce it\n",
        "if pwd == Rainbow_Table[0][1]:\n",
        "  print(\"The test passed:)\")\n",
        "else:\n",
        "  print(\"The test failed:(\")\n",
        "\n",
        "\n",
        "# Digests\n",
        "digest = [0]*10\n",
        "digest[0] = 100245009005103267899033614526941913880246373596564823340949840790844809103119\n",
        "digest[1] = 19975499931938919928595451537096181331883854568747045850221901234691104582098\n",
        "digest[2] = 113755495174055610876492464753048312831115306302701553827210127388606508241384\n",
        "digest[3] = 91716148188179664717616297774779369080831030621153106066937072640936294082436\n",
        "digest[4] = 114327333148588727761456040560697699459972533926123848855642209266882904981056\n",
        "digest[5] = 114092167432998812840496186716627935081797792706490494942204367130254495731666\n",
        "digest[6] = 38281036052010144447899334632289647459864065649722502224373489543446886678643\n",
        "digest[7] = 44545357949490023150618582332141371853866888964826995324110314901909474805088\n",
        "digest[8] = 38048259072653533075550911757874348323176766191918852427444568385091382449858\n",
        "digest[9] = 35430391149852444211048461076529046528250550719267058178400921942117732723330\n",
        "\n",
        "print(\"\\The mission is to find six-character passwords that correspond to these digests:\\n\")\n",
        "passwords = []\n",
        "for d in range(len(digest)):\n",
        "  # print(d + 1)\n",
        "  # p0 = R(H)\n",
        "  p_0 = Reduction(digest[d] % pwd_space, Alphabet, pwd_len)\n",
        "  # compare p0 and pj,t−1 for j = 1, . . . , m\n",
        "  found = False\n",
        "  for j in range(1, len(Rainbow_Table)):\n",
        "    if p_0 == Rainbow_Table[j][1]:\n",
        "      found = True\n",
        "      break\n",
        "  if found:\n",
        "    # print('j is', j)\n",
        "    # print(Rainbow_Table[j])\n",
        "    p_prv = Rainbow_Table[j][0]\n",
        "    for i in range(t):\n",
        "      hash = SHA256.new(p_prv.encode('utf-8'))  # hash it\n",
        "      dig = int.from_bytes(hash.digest(), byteorder='big')  # convert the hash into an integer\n",
        "      p_i = Reduction(dig % pwd_space, Alphabet, pwd_len)  # Reduce it\n",
        "      p_prv = p_i\n",
        "      if i == t-2:\n",
        "        passwords.append(p_i)\n",
        "        break\n",
        "  else:\n",
        "    FOUND = False\n",
        "    t_step = 2\n",
        "    while not FOUND:\n",
        "      hash = SHA256.new(p_0.encode('utf-8'))  # hash it\n",
        "      dig = int.from_bytes(hash.digest(), byteorder='big')  # convert the hash into an integer\n",
        "      p_1 = Reduction(dig % pwd_space, Alphabet, pwd_len)  # Reduce it\n",
        "      for j in range(1, len(Rainbow_Table)):\n",
        "        if p_1 == Rainbow_Table[j][1]:\n",
        "          FOUND = True\n",
        "          break\n",
        "      p_0 = p_1\n",
        "      t_step += 1\n",
        "    # print('t_step:', t_step)\n",
        "    # print('j is', j)\n",
        "    # print(Rainbow_Table[j])\n",
        "    p_prv = Rainbow_Table[j][0]\n",
        "    for i in range(t):\n",
        "      hash = SHA256.new(p_prv.encode('utf-8'))  # hash it\n",
        "      dig = int.from_bytes(hash.digest(), byteorder='big')  # convert the hash into an integer\n",
        "      p_i = Reduction(dig % pwd_space, Alphabet, pwd_len)  # Reduce it\n",
        "      p_prv = p_i\n",
        "      if i == t - t_step:\n",
        "        passwords.append(p_i)\n",
        "        break\n",
        "print(passwords)\n"
      ],
      "execution_count": 57,
      "outputs": [
        {
          "output_type": "stream",
          "text": [
            "This is how you compute one link in the hash chain\n",
            "pwd(i) --> pwd(i+1):  OO,XR. --> CNTH,Y\n",
            "The test passed:)\n",
            "\\The mission is to find six-character passwords that correspond to these digests:\n",
            "\n",
            "['RAF!MX', 'IZSROR', '.I,BA,', 'AC.B,A', 'ZHKVHG', 'CMDLNJ', '?G.D,N', 'KOGSLE', 'AM!?OU', 'TKCQZA']\n"
          ],
          "name": "stdout"
        }
      ]
    },
    {
      "cell_type": "markdown",
      "metadata": {
        "id": "ODSP88HMx-B2",
        "colab_type": "text"
      },
      "source": [
        "['RAF!MX', 'IZSROR', '.I,BA,', 'AC.B,A', 'ZHKVHG', 'CMDLNJ', '?G.D,N', 'KOGSLE', 'AM!?OU', 'TKCQZA']\n"
      ]
    },
    {
      "cell_type": "markdown",
      "metadata": {
        "id": "Lv8CBPcGVPlJ",
        "colab_type": "text"
      },
      "source": [
        "# Question 3\n",
        "Alice encrypts the private factors of the modulus using her public key. In order to increase security, she multiplies them with a random integer k (a process called blinding). Namely, she performs the following operations\n",
        "\n",
        "cp = (kp)e mod n and cq = (kq)e mod n,\n",
        "\n"
      ]
    },
    {
      "cell_type": "markdown",
      "metadata": {
        "id": "s-EuUJcSb1IN",
        "colab_type": "text"
      },
      "source": [
        "where \n",
        "n = 7473729494541494368852084160833887966786966146604539788038425546370721005202575292878010603718779143680279072437859979437027212668979951812104144364476251149631445677106574998958718100538368157559892086233484623658307080278702230379266872415713089871004732096589645883883977415506508347976001334807533323619602524830567712971581132341673584628698079736760920789626175805249978676215337039548212810503820392130214528748452439765014841123109184880811527461970066588991000432403773750048368279867220678747020767042484253902752403310560243017584585301433673020033953058809415002025715734068685302158511640316340598416777\n",
        "e = 65537\n",
        "\n",
        "a.\t(10 pts) Explain why this is not secure as anyone who obtains cp or cq can factor n. \n",
        "\n",
        "b.\t(20 pts) Factor n assuming \n",
        "cp =  6237092736280340368143892975246879700280574956823483459089826300838549326698371192841125256658301422335506071280990036134969958430140091821413942110999828019223701914534660496145184049436793233117527141710469587852896572612908205944874924666105935993339272072516489985048899803563277390008625395078803685108980714466378814566336644612044895653938680103088252710048504048952616260337657469904426834625756755178823712343160146527660412642787198955050511984140986234095815703702908475146055296882216504049042640234735532803592978062118777287332266867117935272468491447326467928608953581142170727780193982988625594898212\n",
        "cq = 6792216459178320663134922113672614244133286795167205940387994163295121940464502516578964764558190390582955957319087527927606354995278787002827810252216604393602551619997059706389437721444109986118687258571558770491123542808098899449070164438070259725300867432155155552476715445078689763334188428800272552596349007005222835623783668243124391007979542657577232082178629086100963707200714469436928816142276093722080937180495045103388174875710073753498922326189147660992582560179759354313355942469090808651587693854760749192023182331797094543656070987815654088544115591473666250129130603910045357579318640054232668524224\n",
        "\n",
        "and decrypt the following ciphertext \n",
        "cm = 2105477800955456357154507258188617457189736593253101663074145074953981395245071021806753010279680874168054072882966675195121143457746629686736359549415401549852363809597210114934407644579644329802951418430994896968996554627286997788295104796260715656641752826531876202868222659539111193689690587665763970475954283298561326716629497355710903035324921787171114135903504002506114489283933796611287777504398400559494459519397397254887260526830796723748881723043560212833332272718498671835837847760126707870313591817583090393736883523163338481442463241882375466824267640258884419635167163135753490195544303858749215914789\n",
        "\n",
        "and print out the plaintext message. For the solution of this question complete and submit the attached file “DeterministicRSA.py”.\n"
      ]
    },
    {
      "cell_type": "markdown",
      "metadata": {
        "id": "udAKpid0TDHe",
        "colab_type": "text"
      },
      "source": [
        "a) So if we know cp or cq we can take the gcd of one of them and n to find p or q. This is because when we multiply both equations we get cp * cq = k^(2e) * (pq)^e (mod n) which is 0 since pq = n cp * cq is a multiple of n hence taking the gcd of one of them and n will give us a factor of n. Once we found p or q we can find q or p, hence finding the factors of n. Then we are able to decrypt the message."
      ]
    },
    {
      "cell_type": "code",
      "metadata": {
        "id": "02m_gmhlUn4l",
        "colab_type": "code",
        "colab": {
          "base_uri": "https://localhost:8080/",
          "height": 67
        },
        "outputId": "e5156858-bb7f-44fa-b183-9093835f582c"
      },
      "source": [
        "def egcd(a, b):\n",
        "    x,y, u,v = 0,1, 1,0\n",
        "    while a != 0:\n",
        "        q, r = b//a, b%a\n",
        "        m, n = x-u*q, y-v*q\n",
        "        b,a, x,y, u,v = a,r, u,v, m,n\n",
        "    gcd = b\n",
        "    return gcd, x, y\n",
        "\n",
        "def modinv(a, m):\n",
        "    gcd, x, y = egcd(a, m)\n",
        "    if gcd != 1:\n",
        "        return None  # modular inverse does not exist\n",
        "    else:\n",
        "        return x % m\n",
        "\n",
        "\n",
        "\n",
        "'''\n",
        "Output: y^d mod n\n",
        "'''\n",
        "def binaryExp(y, d, n):\n",
        "    s = y\n",
        "    d = list(bin(d)[3:])\n",
        "    for i in range(len(d)):\n",
        "        s = (s*s) % n\n",
        "        if d[i] == '1':\n",
        "            s = (s*y) % n\n",
        "    return s\n",
        "\n",
        "\n",
        "# print(binaryExp(7,560,561))\n",
        "\n",
        "# This is an example to show how the conversion between integers and bytes is done\n",
        "message = b'Be yourself; everyone else is already taken.'\n",
        "m = int.from_bytes(message, byteorder='big')\n",
        "print(\"Message: \", m.to_bytes((m.bit_length()+7)//8, byteorder='big'))\n",
        "\n",
        "n = 7473729494541494368852084160833887966786966146604539788038425546370721005202575292878010603718779143680279072437859979437027212668979951812104144364476251149631445677106574998958718100538368157559892086233484623658307080278702230379266872415713089871004732096589645883883977415506508347976001334807533323619602524830567712971581132341673584628698079736760920789626175805249978676215337039548212810503820392130214528748452439765014841123109184880811527461970066588991000432403773750048368279867220678747020767042484253902752403310560243017584585301433673020033953058809415002025715734068685302158511640316340598416777\n",
        "e = 65537\n",
        "    \n",
        "# Alice encrypts her RSA private keys p and q\n",
        "cp = 6237092736280340368143892975246879700280574956823483459089826300838549326698371192841125256658301422335506071280990036134969958430140091821413942110999828019223701914534660496145184049436793233117527141710469587852896572612908205944874924666105935993339272072516489985048899803563277390008625395078803685108980714466378814566336644612044895653938680103088252710048504048952616260337657469904426834625756755178823712343160146527660412642787198955050511984140986234095815703702908475146055296882216504049042640234735532803592978062118777287332266867117935272468491447326467928608953581142170727780193982988625594898212\n",
        "cq = 6792216459178320663134922113672614244133286795167205940387994163295121940464502516578964764558190390582955957319087527927606354995278787002827810252216604393602551619997059706389437721444109986118687258571558770491123542808098899449070164438070259725300867432155155552476715445078689763334188428800272552596349007005222835623783668243124391007979542657577232082178629086100963707200714469436928816142276093722080937180495045103388174875710073753498922326189147660992582560179759354313355942469090808651587693854760749192023182331797094543656070987815654088544115591473666250129130603910045357579318640054232668524224\n",
        "cm = 2105477800955456357154507258188617457189736593253101663074145074953981395245071021806753010279680874168054072882966675195121143457746629686736359549415401549852363809597210114934407644579644329802951418430994896968996554627286997788295104796260715656641752826531876202868222659539111193689690587665763970475954283298561326716629497355710903035324921787171114135903504002506114489283933796611287777504398400559494459519397397254887260526830796723748881723043560212833332272718498671835837847760126707870313591817583090393736883523163338481442463241882375466824267640258884419635167163135753490195544303858749215914789\n",
        "\n",
        "# Your mission is to show that you can factor n, find p and q, and decrypt cm\n",
        "print(\"Your code goes here\")\n",
        "p, _, _ = egcd(cp, n)\n",
        "q = n//p\n",
        "phi_n = (p-1) * (q-1)\n",
        "d = modinv(e, phi_n)\n",
        "m = binaryExp(cm, d, n)\n",
        "print(\"Message: \", m.to_bytes((m.bit_length()+7)//8, byteorder='big'))"
      ],
      "execution_count": 1,
      "outputs": [
        {
          "output_type": "stream",
          "text": [
            "Message:  b'Be yourself; everyone else is already taken.'\n",
            "Your code goes here\n",
            "Message:  b'Insanity is doing the same thing, over and over again, but expecting different results.'\n"
          ],
          "name": "stdout"
        }
      ]
    },
    {
      "cell_type": "markdown",
      "metadata": {
        "id": "emmObBmvbXMZ",
        "colab_type": "text"
      },
      "source": [
        "b) Insanity is doing the same thing, over and over again, but expecting different results."
      ]
    },
    {
      "cell_type": "markdown",
      "metadata": {
        "id": "gJJXKdsUdBvn",
        "colab_type": "text"
      },
      "source": [
        "# Question 4\n",
        "Consider the following security game. Suppose that an attacker wants to decrypt the ciphertext c encrypted using the RSA algorithm and obtain the plaintext m, where c = me mod N. She knows neither the private key d nor the factorization of the modulus N. However, she can query an oracle (e.g., a program) with a ciphertext c’ != c, and receives the corresponding plaintext m’ = c’d mod N.\n",
        "\n",
        "a.\t(10 pts) The attacker can decrypt c and recover m. Show how. \n",
        "\n",
        "\n",
        "b.\t(20 pts) Consider the following RSA parameters and a challenge ciphertext\n"
      ]
    },
    {
      "cell_type": "markdown",
      "metadata": {
        "id": "bQoxKbk4b7W8",
        "colab_type": "text"
      },
      "source": [
        "\n",
        "N:  4131050804701947615474143330647520043409422542555438899772006619584945340119494649404129371817979723151949121241703378752722699538230573280931110089904937167907235670950600408473367355490703599182689592510968586723123472663548236788459038268157326078778911167528038386964502552412608060108007769524518942771622175289823182473018026393098835614963683062594807036906626036129123789566927291732854619902597726403125881968574446179918998140970652556709962611125425594329231466588467030961620469125134654566923297538042292332544406175518916678210686925936341811732104917605118575775329334829543752265141266783630832854187\n",
        "\n",
        "e:  65537\n",
        "\n",
        "c:  286011333479246811807036978298499172055797623822007560823628330407176989331751815848494737394310492374805419675958067102325270756298968875428244016352736458046904203412669134207806910534413220489710408452767455368567189168921003750345234473915004072109521598843246444074965165007427386987929674642591506744871181356247565764232892236100024802851129256309465367597958913617035234759551640734971193268573642824284719009304086710729931481730871492097430958962565736552256356850187124726045482360175673464358349365112652477377441584665739736701619949825887312761535693506114283123294171040950993106172221548552046342629\n",
        "\n",
        "The RSA oracle is implemented as a Windows exe file (RSA_Oracle.exe) provided in the assignment package. If you are unable to run the RSA oracle, you can send your query to Erkay Savaş (accessible via erkay.savas@sabanciuniv.edu)\n",
        "\n",
        "I challenge you to find m corresponding to the ciphertext c. Note that m contains a meaningful message. Convert it to bytes to discover what it is.\n"
      ]
    },
    {
      "cell_type": "markdown",
      "metadata": {
        "id": "k-gwvWv2U2rt",
        "colab_type": "text"
      },
      "source": [
        "a) The attacker can choose an integer x which is relatively prime to n. Then they can generate a ciphertext c_x by taking the modulus of x to the power e. (c_x = x^e (mod n)). Next, they can multiply c_x with the given ciphertext and give it to the oracle. The oracle will return us with a message m times x to the power of e*d mod N. (c_x * c = (m*x)^(e*d) (mod n)). We know that d is the modular inverse of e so e*d = 1 and since x is relatively prime with n we can multiply each side to get our message. (c_x * c)/x = m (mod n)"
      ]
    },
    {
      "cell_type": "code",
      "metadata": {
        "id": "cxo6LtHSW954",
        "colab_type": "code",
        "colab": {
          "base_uri": "https://localhost:8080/",
          "height": 70
        },
        "outputId": "a3cc372f-34d0-4fae-b57a-2a5af90edc52"
      },
      "source": [
        "n = 4131050804701947615474143330647520043409422542555438899772006619584945340119494649404129371817979723151949121241703378752722699538230573280931110089904937167907235670950600408473367355490703599182689592510968586723123472663548236788459038268157326078778911167528038386964502552412608060108007769524518942771622175289823182473018026393098835614963683062594807036906626036129123789566927291732854619902597726403125881968574446179918998140970652556709962611125425594329231466588467030961620469125134654566923297538042292332544406175518916678210686925936341811732104917605118575775329334829543752265141266783630832854187\n",
        "c = 286011333479246811807036978298499172055797623822007560823628330407176989331751815848494737394310492374805419675958067102325270756298968875428244016352736458046904203412669134207806910534413220489710408452767455368567189168921003750345234473915004072109521598843246444074965165007427386987929674642591506744871181356247565764232892236100024802851129256309465367597958913617035234759551640734971193268573642824284719009304086710729931481730871492097430958962565736552256356850187124726045482360175673464358349365112652477377441584665739736701619949825887312761535693506114283123294171040950993106172221548552046342629\n",
        "e = 65537\n",
        "# find the first number that s relatively prime to n\n",
        "x = 2\n",
        "g, _, _ = egcd(n,x)\n",
        "while (g != 1):\n",
        "  x += 1\n",
        "  g, _, _ = egcd(n,x)\n",
        "\n",
        "c_x = (x**e) % n\n",
        "print(c_x * c) \n",
        "# c_x * c -----> oracle\n",
        "# oracle ------> res\n",
        "res = 420085601177848199526077306644180397697070129576434437692078704800395153001958038786298923145675494839168462046\n",
        "m = (res*modinv(x, n)) %n\n",
        "print(\"Message: \", m.to_bytes((m.bit_length()+7)//8, byteorder='big'))\n",
        "\n",
        "\n",
        "\n"
      ],
      "execution_count": 43,
      "outputs": [
        {
          "output_type": "stream",
          "text": [
            "651840309882420528216676425936473703638645789748707046381362629649037017973562935101055162586836377959991977624913899106810359474295115026126189695701130741194093823251086504448736787048351337025768991440036939978951379430763724844273771492770185029509293413994000730487009349783001987899302690157494486539728391303678847492065426397232469865714660198230305019816141830118041054659804796784503088858348262490604681821432309868006867930111385083678684451768053764841179751998593287776242668581818166057498406544420610692683042663732513048465852414705932801031040624374060055779968699273229924531155254449711240112769321761879055085604358822927639954329618848943051813987792670177035045137034497474868205264648474507463349368061422554389212463234120935310814983126307276280698616624499893832361916307800722389008811168902552372779538093833330323299200462083734519316762845892744141052887099022428079788858100909990367088230950561073213409166608653061294175837444440490524172171756426510333959619225643714721986041411284708394054708655154118223853623796156560880388008374069323587719790009389497026797651037536882201291357699578452689625605510236933162537178096719455975721113415577054637321762167094173638440616033439516581674298932\n",
            "Message:  b'You discovered my verry secret message:) Bravo'\n"
          ],
          "name": "stdout"
        }
      ]
    },
    {
      "cell_type": "markdown",
      "metadata": {
        "id": "T4oQQDYGbQie",
        "colab_type": "text"
      },
      "source": [
        "b) You discovered my verry secret message:) Bravo"
      ]
    }
  ]
}